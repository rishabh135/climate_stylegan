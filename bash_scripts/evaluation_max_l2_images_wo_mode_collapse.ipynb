{
 "cells": [
  {
   "cell_type": "code",
   "execution_count": null,
   "metadata": {},
   "outputs": [],
   "source": []
  },
  {
   "cell_type": "code",
   "execution_count": 1,
   "metadata": {},
   "outputs": [],
   "source": [
    "#!/bin/env python\n",
    "\n",
    "from __future__ import absolute_import, division, print_function, unicode_literals\n",
    "\n",
    "import sys,os,os.path,time\n",
    "sys.path.append(os.path.expanduser('/global/u1/r/rgupta2/.local/lib/python3.7/site-packages/'))\n",
    "\n",
    "# export PYTHONPATH=\"${PYTHONPATH}:/usr/local/lib/python2.7/site-packages:/usr/lib/python2.7/site-packages\"\n",
    "\n",
    "\n",
    "import matplotlib.style\n",
    "import matplotlib as mpl\n",
    "mpl.use('Agg')\n",
    "# mpl.style.use('seaborn')\n",
    "mpl.rc('image', cmap='gray')\n",
    "import matplotlib.pyplot as plt\n",
    "\t\n",
    "%matplotlib inline\n",
    "plt.rcParams['figure.figsize'] = (8,10)\n",
    "\n",
    "\n",
    "import time, re, sys, os\n",
    "from tqdm import tqdm, trange\n",
    "import cv2\n",
    "import pandas as pd\n",
    "import xarray as xr\n",
    "from glob import glob\n",
    "import numpy as np\n",
    "from scipy import stats\n",
    "# Install a pip package in the current Jupyter kernel\n",
    "# !{sys.executable} -m pip install --user Pillow\n",
    "\n",
    "from PIL import Image\n",
    "\n"
   ]
  },
  {
   "cell_type": "code",
   "execution_count": 2,
   "metadata": {},
   "outputs": [
    {
     "name": "stdout",
     "output_type": "stream",
     "text": [
      "(600, 512, 512, 1)\n"
     ]
    }
   ],
   "source": [
    "climate_counter = 246718\n",
    "\n",
    "load_path = \"/global/cscratch1/sd/rgupta2/backup/climate_stylegan/test_samples/\"\n",
    "\n",
    "omega_generated_data = np.load (load_path + \"logan_climate_images_at_generator_{}_wo_norm_one_channel_512.npy\".format(climate_counter))\n",
    "np.random.shuffle(omega_generated_data)\n",
    "print(omega_generated_data.shape)"
   ]
  },
  {
   "cell_type": "code",
   "execution_count": 5,
   "metadata": {},
   "outputs": [
    {
     "name": "stderr",
     "output_type": "stream",
     "text": [
      "500it [00:49, 10.10it/s]\n"
     ]
    },
    {
     "data": {
      "image/png": "[encoded data removed]",
      "text/plain": [
       "<Figure size 576x720 with 1 Axes>"
      ]
     },
     "metadata": {
      "needs_background": "light"
     },
     "output_type": "display_data"
    }
   ],
   "source": [
    "number_l2 = 500\n",
    "\n",
    "def calculateDistance(i1, i2):\n",
    "    return np.mean((i1-i2)**2)\n",
    "\n",
    "channel_names = [ \"omega\"]\n",
    "    \n",
    "for chan in range(len(channel_names)):\n",
    "    generated_image = omega_generated_data[:number_l2, :, :, chan]\n",
    "#     real_image = normalized_original_data[:number_l2, chan,]\n",
    "    l2_generated = []\n",
    "    for i, img in tqdm(enumerate(generated_image)):\n",
    "        foo = [calculateDistance(img,j) for j in generated_image[i+1:]]\n",
    "        l2_generated.append(foo)\n",
    "\n",
    "    fake_distances = [j for i in l2_generated for j in i]\n",
    "\n",
    "\n",
    "\n",
    "#     l2_real = []\n",
    "#     for i, img in tqdm(enumerate(real_image)):\n",
    "#         foo = [calculateDistance(img,j) for j in real_image[i+1:]]\n",
    "#         l2_real.append(foo)\n",
    "#     real_distances = [j for i in l2_real for j in i]\n",
    "\n",
    "    plt.hist([ fake_distances ], color=[  'g'], bins=100, linewidth=2 ,histtype='step', label=[\"generated_{}\".format(number_l2)], density=True)\n",
    "#     plt.set_title('Plot of l2 for channel {}'.format(channel_names[chan]))\n",
    "    # plt.yscale(\"log\")\n",
    "    # plt.gca().invert_yaxis()\n",
    "    plt.legend(loc='best')"
   ]
  },
  {
   "cell_type": "code",
   "execution_count": null,
   "metadata": {},
   "outputs": [],
   "source": [
    "#  Style mixing and cropping removes mode collapse"
   ]
  }
 ],
 "metadata": {
  "kernelspec": {
   "display_name": "tensorflow-v1.15.0-cpu [conda env:root] *",
   "language": "python",
   "name": "conda-root-tensorflow_intel_1.15.0_py37"
  },
  "language_info": {
   "codemirror_mode": {
    "name": "ipython",
    "version": 3
   },
   "file_extension": ".py",
   "mimetype": "text/x-python",
   "name": "python",
   "nbconvert_exporter": "python",
   "pygments_lexer": "ipython3",
   "version": "3.7.4"
  }
 },
 "nbformat": 4,
 "nbformat_minor": 4
}
