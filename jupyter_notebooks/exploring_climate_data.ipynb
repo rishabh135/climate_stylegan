{
 "cells": [
  {
   "cell_type": "code",
   "execution_count": 1,
   "metadata": {},
   "outputs": [],
   "source": [
    "#!/bin/env python\n",
    "\n",
    "\n",
    "import sys,os,os.path,time\n",
    "sys.path.append(os.path.expanduser('/global/u1/r/rgupta2/.local/lib/python3.7/site-packages/'))\n",
    "\n",
    "# export PYTHONPATH=\"${PYTHONPATH}:/usr/local/lib/python2.7/site-packages:/usr/lib/python2.7/site-packages\"\n",
    "import numpy as np\n",
    "import time\n",
    "\n",
    "from netCDF4 import Dataset\n",
    "import matplotlib.pyplot as plt\n",
    "import xarray as xr\n",
    "\n",
    "\n",
    "# from mpl_toolkits.basemap import Basemap\n",
    "\n",
    "\n",
    "file_path = \"/global/cscratch1/sd/karthik_/CAM5.1_0.25degree/\"\n",
    "from glob import glob\n",
    "\n",
    "files = sorted(glob(file_path + \"*.nc\"))\n",
    "  "
   ]
  },
  {
   "cell_type": "code",
   "execution_count": 2,
   "metadata": {},
   "outputs": [
    {
     "name": "stdout",
     "output_type": "stream",
     "text": [
      "1324\n"
     ]
    }
   ],
   "source": [
    "# print('\\n'.join(map(str, files)))\n",
    "print(len(files))"
   ]
  },
  {
   "cell_type": "code",
   "execution_count": 5,
   "metadata": {},
   "outputs": [
    {
     "name": "stdout",
     "output_type": "stream",
     "text": [
      "Time takes :  0.2521026134490967\n"
     ]
    }
   ],
   "source": [
    "t = time.time()\n",
    "\n",
    "for file in files:\n",
    "    ds = xr.open_dataset(files[0], decode_times=False\t)\n",
    "    print(\"Time takes : \", time.time()-t)"
   ]
  },
  {
   "cell_type": "code",
   "execution_count": null,
   "metadata": {},
   "outputs": [],
   "source": []
  },
  {
   "cell_type": "code",
   "execution_count": null,
   "metadata": {},
   "outputs": [],
   "source": []
  },
  {
   "cell_type": "code",
   "execution_count": 10,
   "metadata": {},
   "outputs": [
    {
     "data": {
      "text/plain": [
       "KeysView(<xarray.Dataset>\n",
       "Dimensions:       (ilev: 31, lat: 768, lev: 30, lon: 1152, nbnd: 2, slat: 767, slon: 1152, time: 8)\n",
       "Coordinates:\n",
       "  * lev           (lev) float64 3.643 7.595 14.36 24.61 ... 957.5 976.3 992.6\n",
       "  * ilev          (ilev) float64 2.255 5.032 10.16 18.56 ... 967.5 985.1 1e+03\n",
       "  * time          (time) float64 0.0 0.125 0.25 0.375 0.5 0.625 0.75 0.875\n",
       "  * lat           (lat) float64 -90.0 -89.77 -89.53 -89.3 ... 89.53 89.77 90.0\n",
       "  * lon           (lon) float64 0.0 0.3125 0.625 0.9375 ... 359.1 359.4 359.7\n",
       "  * slat          (slat) float64 -89.88 -89.65 -89.41 ... 89.41 89.65 89.88\n",
       "  * slon          (slon) float64 -0.1562 0.1562 0.4688 ... 358.9 359.2 359.5\n",
       "Dimensions without coordinates: nbnd\n",
       "Data variables:\n",
       "    hyam          (lev) float64 ...\n",
       "    hybm          (lev) float64 ...\n",
       "    hyai          (ilev) float64 ...\n",
       "    hybi          (ilev) float64 ...\n",
       "    P0            float64 ...\n",
       "    date          (time) int32 ...\n",
       "    datesec       (time) int32 ...\n",
       "    w_stag        (slat) float64 ...\n",
       "    time_bnds     (time, nbnd) float64 ...\n",
       "    date_written  (time) |S8 ...\n",
       "    time_written  (time) |S8 ...\n",
       "    ntrm          int32 ...\n",
       "    ntrn          int32 ...\n",
       "    ntrk          int32 ...\n",
       "    ndbase        int32 ...\n",
       "    nsbase        int32 ...\n",
       "    nbdate        int32 ...\n",
       "    nbsec         int32 ...\n",
       "    mdt           int32 ...\n",
       "    nlon          (lat) int32 ...\n",
       "    wnummax       (lat) int32 ...\n",
       "    gw            (lat) float64 ...\n",
       "    ndcur         (time) int32 ...\n",
       "    nscur         (time) int32 ...\n",
       "    co2vmr        (time) float64 ...\n",
       "    ch4vmr        (time) float64 ...\n",
       "    n2ovmr        (time) float64 ...\n",
       "    f11vmr        (time) float64 ...\n",
       "    f12vmr        (time) float64 ...\n",
       "    sol_tsi       (time) float64 ...\n",
       "    nsteph        (time) int32 ...\n",
       "    CLDTOT        (time, lat, lon) float32 ...\n",
       "    FLDS          (time, lat, lon) float32 ...\n",
       "    FLDSC         (time, lat, lon) float32 ...\n",
       "    FLNS          (time, lat, lon) float32 ...\n",
       "    FLNSC         (time, lat, lon) float32 ...\n",
       "    FLUT          (time, lat, lon) float32 ...\n",
       "    FLUTC         (time, lat, lon) float32 ...\n",
       "    FSDS          (time, lat, lon) float32 ...\n",
       "    FSDSC         (time, lat, lon) float32 ...\n",
       "    FSNS          (time, lat, lon) float32 ...\n",
       "    FSNSC         (time, lat, lon) float32 ...\n",
       "    FSNT          (time, lat, lon) float32 ...\n",
       "    FSNTC         (time, lat, lon) float32 ...\n",
       "    LHFLX         (time, lat, lon) float32 ...\n",
       "    OMEGA500      (time, lat, lon) float32 ...\n",
       "    OMEGA850      (time, lat, lon) float32 ...\n",
       "    PRECC         (time, lat, lon) float32 ...\n",
       "    PRECL         (time, lat, lon) float32 ...\n",
       "    PRECSC        (time, lat, lon) float32 ...\n",
       "    PRECT         (time, lat, lon) float32 ...\n",
       "    PS            (time, lat, lon) float32 ...\n",
       "    SHFLX         (time, lat, lon) float32 ...\n",
       "    T500          (time, lat, lon) float32 ...\n",
       "    T850          (time, lat, lon) float32 ...\n",
       "    TMQ           (time, lat, lon) float32 ...\n",
       "    TREFHT        (time, lat, lon) float32 ...\n",
       "Attributes:\n",
       "    Conventions:      CF-1.0\n",
       "    source:           CAM\n",
       "    case:             CAM5-1-0.25degree_All-Hist_est1_v3_run1\n",
       "    title:            UNSET\n",
       "    logname:          mwehner\n",
       "    host:             nid00778\n",
       "    Version:          $Name$\n",
       "    revision_Id:      $Id$\n",
       "    initial_file:     /global/cscratch1/sd/mwehner/cam5_input_netcdf_files/CA...\n",
       "    topography_file:  /project/projectdirs/ccsm1/inputdata/atm/cam/topo/USGS_...)"
      ]
     },
     "execution_count": 10,
     "metadata": {},
     "output_type": "execute_result"
    }
   ],
   "source": [
    "ds.keys()\n"
   ]
  },
  {
   "cell_type": "code",
   "execution_count": 6,
   "metadata": {},
   "outputs": [
    {
     "data": {
      "text/plain": [
       "(8, 768, 1152)"
      ]
     },
     "execution_count": 6,
     "metadata": {},
     "output_type": "execute_result"
    }
   ],
   "source": [
    "ds[\"OMEGA500\"].shape"
   ]
  },
  {
   "cell_type": "code",
   "execution_count": 12,
   "metadata": {},
   "outputs": [
    {
     "data": {
      "text/plain": [
       "<xarray.DataArray 'OMEGA500' (time: 8)>\n",
       "array([-0.011843, -0.025709, -0.030049, -0.022776, -0.038136, -0.028068,\n",
       "       -0.002238,  0.024157], dtype=float32)\n",
       "Coordinates:\n",
       "  * time     (time) float64 0.0 0.125 0.25 0.375 0.5 0.625 0.75 0.875\n",
       "    lat      float64 -90.0\n",
       "    lon      float64 0.0\n",
       "Attributes:\n",
       "    units:         Pa/s\n",
       "    long_name:     Vertical velocity at 500 mbar pressure surface\n",
       "    cell_methods:  time: mean"
      ]
     },
     "execution_count": 12,
     "metadata": {},
     "output_type": "execute_result"
    }
   ],
   "source": [
    "ds[\"OMEGA500\"][:,0,0]\n"
   ]
  },
  {
   "cell_type": "code",
   "execution_count": 13,
   "metadata": {},
   "outputs": [
    {
     "data": {
      "text/plain": [
       "<xarray.DataArray 'OMEGA500' (time: 8)>\n",
       "array([-0.011843, -0.025709, -0.030049, -0.022776, -0.038136, -0.028068,\n",
       "       -0.002238,  0.024157], dtype=float32)\n",
       "Coordinates:\n",
       "  * time     (time) float64 0.0 0.125 0.25 0.375 0.5 0.625 0.75 0.875\n",
       "    lat      float64 -90.0\n",
       "    lon      float64 0.3125\n",
       "Attributes:\n",
       "    units:         Pa/s\n",
       "    long_name:     Vertical velocity at 500 mbar pressure surface\n",
       "    cell_methods:  time: mean"
      ]
     },
     "execution_count": 13,
     "metadata": {},
     "output_type": "execute_result"
    }
   ],
   "source": [
    "ds[\"OMEGA500\"][:,0,1]"
   ]
  },
  {
   "cell_type": "code",
   "execution_count": 7,
   "metadata": {},
   "outputs": [],
   "source": [
    "from matplotlib import pyplot as plt\n",
    "%matplotlib inline\n",
    "plt.rcParams['figure.figsize'] = (15,20)"
   ]
  },
  {
   "cell_type": "code",
   "execution_count": 34,
   "metadata": {},
   "outputs": [
    {
     "data": {
      "text/plain": [
       "(array([1., 0., 0., ..., 0., 0., 1.]),\n",
       " array([-9.689267 , -9.6881485, -9.687029 , ...,  6.7806125,  6.7817316,\n",
       "         6.7828507], dtype=float32),\n",
       " <a list of 1 Patch objects>)"
      ]
     },
     "execution_count": 34,
     "metadata": {},
     "output_type": "execute_result"
    },
    {
     "data": {
      "image/png": "[encoded data removed]",
      "text/plain": [
       "<Figure size 576x1440 with 1 Axes>"
      ]
     },
     "metadata": {
      "needs_background": "light"
     },
     "output_type": "display_data"
    }
   ],
   "source": [
    "original_data = ds[\"OMEGA500\"].values\n",
    "plt.hist(original_data.flatten(), bins='fd', histtype='step')"
   ]
  },
  {
   "cell_type": "code",
   "execution_count": 12,
   "metadata": {},
   "outputs": [
    {
     "name": "stdout",
     "output_type": "stream",
     "text": [
      "(8, 512, 512)\n"
     ]
    },
    {
     "data": {
      "text/plain": [
       "<matplotlib.image.AxesImage at 0x2aaad91b7198>"
      ]
     },
     "execution_count": 12,
     "metadata": {},
     "output_type": "execute_result"
    },
    {
     "data": {
      "image/png": "[encoded data removed]",
      "text/plain": [
       "<Figure size 1080x1440 with 1 Axes>"
      ]
     },
     "metadata": {
      "needs_background": "light"
     },
     "output_type": "display_data"
    }
   ],
   "source": [
    "data = ds[\"OMEGA500\"][:, 128:640, 320:832].values\n",
    "print(data.shape)\n",
    "plt.imshow(data[0])"
   ]
  },
  {
   "cell_type": "code",
   "execution_count": 18,
   "metadata": {},
   "outputs": [
    {
     "data": {
      "image/png": "[encoded data removed]",
      "text/plain": [
       "<Figure size 360x360 with 1 Axes>"
      ]
     },
     "metadata": {
      "needs_background": "light"
     },
     "output_type": "display_data"
    }
   ],
   "source": [
    "from matplotlib import pyplot as plt\n",
    "%matplotlib inline\n",
    "plt.rcParams['figure.figsize'] = (5, 5)\n",
    "plt.hist( data.flatten(), bins='fd', color='b', histtype='step')\n",
    "plt.yscale('log', nonposy='clip')\n",
    "plt.grid(True)"
   ]
  },
  {
   "cell_type": "code",
   "execution_count": 23,
   "metadata": {},
   "outputs": [],
   "source": [
    "max_val, min_val, std_val, mean_val = data.max(), data.min(), data.std(), data.mean()"
   ]
  },
  {
   "cell_type": "code",
   "execution_count": 24,
   "metadata": {},
   "outputs": [
    {
     "name": "stdout",
     "output_type": "stream",
     "text": [
      "max_val 6.782850742340088  min_val -9.6892671585083  std_val 0.18770195543766022  mean_val 0.0004564703849609941 \n"
     ]
    }
   ],
   "source": [
    "print(\"Original all data max_val {}  min_val {}  std_val {}  mean_val {} \".format(max_val, min_val, std_val, mean_val))"
   ]
  },
  {
   "cell_type": "code",
   "execution_count": 25,
   "metadata": {},
   "outputs": [],
   "source": [
    "data_normalized = (data-mean_val)/std_val"
   ]
  },
  {
   "cell_type": "code",
   "execution_count": 26,
   "metadata": {},
   "outputs": [
    {
     "data": {
      "text/plain": [
       "(7077888,)"
      ]
     },
     "execution_count": 26,
     "metadata": {},
     "output_type": "execute_result"
    }
   ],
   "source": [
    "data_normalized.shape"
   ]
  },
  {
   "cell_type": "code",
   "execution_count": 32,
   "metadata": {},
   "outputs": [],
   "source": [
    "max_val, min_val, std_val, mean_val = data.max(), data.min(), data.std(), data.mean()"
   ]
  },
  {
   "cell_type": "code",
   "execution_count": 33,
   "metadata": {},
   "outputs": [
    {
     "name": "stdout",
     "output_type": "stream",
     "text": [
      "only relevant  data max_val 2.8797972202301025  min_val -9.6892671585083  std_val 0.19376632571220398  mean_val 0.0007547858403995633 \n"
     ]
    }
   ],
   "source": [
    "print(\"only relevant  data max_val {}  min_val {}  std_val {}  mean_val {} \".format(max_val, min_val, std_val, mean_val))"
   ]
  },
  {
   "cell_type": "code",
   "execution_count": 42,
   "metadata": {},
   "outputs": [
    {
     "name": "stdout",
     "output_type": "stream",
     "text": [
      "Time takes :  0.023864269256591797\n",
      "Time takes :  0.025614023208618164\n",
      "Time takes :  0.026124954223632812\n",
      "Time takes :  0.02542424201965332\n",
      "Time takes :  0.02521538734436035\n",
      "Time takes :  0.024729013442993164\n",
      "Time takes :  0.026955366134643555\n",
      "Time takes :  0.02469921112060547\n",
      "Time takes :  0.02513909339904785\n",
      "Time takes :  0.024843454360961914\n",
      "Time takes :  0.0246737003326416\n",
      "Time takes :  0.024850130081176758\n",
      "Time takes :  0.026397228240966797\n",
      "Time takes :  0.02453923225402832\n",
      "Time takes :  0.02506709098815918\n",
      "Time takes :  0.02464008331298828\n",
      "Time takes :  0.024856090545654297\n",
      "Time takes :  0.025044918060302734\n",
      "Time takes :  0.024099111557006836\n",
      "Time takes :  0.024486303329467773\n",
      "Time takes :  0.024967670440673828\n",
      "Time takes :  0.02462172508239746\n",
      "Time takes :  0.02474379539489746\n",
      "Time takes :  0.02772068977355957\n",
      "Time takes :  0.02731466293334961\n",
      "Time takes :  0.026745319366455078\n",
      "Time takes :  0.02595233917236328\n",
      "Time takes :  0.026487112045288086\n"
     ]
    }
   ],
   "source": [
    "list_of_omega_data = []\n",
    "for file in files:\n",
    "    t=time.time()\n",
    "    tmp_ds = xr.open_dataset(file, decode_times=False)\n",
    "    print(\"Time takes : \", time.time()-t)\n",
    "    list_of_omega_data.append(tmp_ds[\"OMEGA500\"][:, 128:640, 320:832].values)\n",
    "    "
   ]
  },
  {
   "cell_type": "code",
   "execution_count": 43,
   "metadata": {},
   "outputs": [],
   "source": [
    "\n",
    "final_data = np.concatenate(list_of_omega_data, axis=0)\n"
   ]
  },
  {
   "cell_type": "code",
   "execution_count": 45,
   "metadata": {},
   "outputs": [
    {
     "name": "stdout",
     "output_type": "stream",
     "text": [
      "final_data max_val 6.457225799560547  min_val -10.614160537719727  std_val 0.2059687376022339  mean_val -0.0023664627224206924 \n"
     ]
    }
   ],
   "source": [
    "final_data.shape\n",
    "max_val, min_val, std_val, mean_val = final_data.max(), final_data.min(), final_data.std(), final_data.mean()\n",
    "print(\"final_data max_val {}  min_val {}  std_val {}  mean_val {} \".format(max_val, min_val, std_val, mean_val))\n",
    "final_normalized_data = (final_data-mean_val)/std_val\n"
   ]
  },
  {
   "cell_type": "code",
   "execution_count": 48,
   "metadata": {},
   "outputs": [
    {
     "data": {
      "text/plain": [
       "([array([0., 0., 0., ..., 0., 0., 0.]), array([1., 0., 0., ..., 0., 0., 1.])],\n",
       " array([-51.521385, -51.520287, -51.519188, ...,  31.359806,  31.360905,\n",
       "         31.362003], dtype=float32),\n",
       " <a list of 2 Lists of Patches objects>)"
      ]
     },
     "execution_count": 48,
     "metadata": {},
     "output_type": "execute_result"
    },
    {
     "data": {
      "image/png": "[encoded data removed]",
      "text/plain": [
       "<Figure size 1080x1440 with 1 Axes>"
      ]
     },
     "metadata": {
      "needs_background": "light"
     },
     "output_type": "display_data"
    }
   ],
   "source": [
    "plt.hist([final_data.flatten(), final_normalized_data.flatten()], bins='fd', color=['b', 'r'], histtype='step')"
   ]
  },
  {
   "cell_type": "code",
   "execution_count": 50,
   "metadata": {},
   "outputs": [],
   "source": []
  },
  {
   "cell_type": "code",
   "execution_count": 51,
   "metadata": {},
   "outputs": [
    {
     "data": {
      "text/plain": [
       "[8477, 4342, 5617, 6317, 1946, 2792, 9681, 2855, 4660, 2298]"
      ]
     },
     "execution_count": 51,
     "metadata": {},
     "output_type": "execute_result"
    }
   ],
   "source": [
    "total_seeds"
   ]
  },
  {
   "cell_type": "code",
   "execution_count": null,
   "metadata": {},
   "outputs": [
    {
     "name": "stderr",
     "output_type": "stream",
     "text": [
      "0it [00:00, ?it/s]"
     ]
    },
    {
     "name": "stdout",
     "output_type": "stream",
     "text": [
      "Time takes :  0.30388498306274414\n"
     ]
    },
    {
     "name": "stderr",
     "output_type": "stream",
     "text": [
      "1it [00:00,  1.84it/s]"
     ]
    },
    {
     "name": "stdout",
     "output_type": "stream",
     "text": [
      "Time takes :  0.38170528411865234\n"
     ]
    },
    {
     "name": "stderr",
     "output_type": "stream",
     "text": [
      "2it [00:01,  1.65it/s]"
     ]
    },
    {
     "name": "stdout",
     "output_type": "stream",
     "text": [
      "Time takes :  0.30733275413513184\n"
     ]
    },
    {
     "name": "stderr",
     "output_type": "stream",
     "text": [
      "3it [00:01,  1.71it/s]"
     ]
    },
    {
     "name": "stdout",
     "output_type": "stream",
     "text": [
      "Time takes :  0.35396552085876465\n"
     ]
    },
    {
     "name": "stderr",
     "output_type": "stream",
     "text": [
      "4it [00:02,  1.66it/s]"
     ]
    },
    {
     "name": "stdout",
     "output_type": "stream",
     "text": [
      "Time takes :  0.3405117988586426\n"
     ]
    },
    {
     "name": "stderr",
     "output_type": "stream",
     "text": [
      "5it [00:03,  1.55it/s]"
     ]
    },
    {
     "name": "stdout",
     "output_type": "stream",
     "text": [
      "Time takes :  0.42578768730163574\n"
     ]
    },
    {
     "name": "stderr",
     "output_type": "stream",
     "text": [
      "6it [00:04,  1.45it/s]"
     ]
    },
    {
     "name": "stdout",
     "output_type": "stream",
     "text": [
      "Time takes :  0.5062968730926514\n"
     ]
    },
    {
     "name": "stderr",
     "output_type": "stream",
     "text": [
      "7it [00:04,  1.38it/s]"
     ]
    },
    {
     "name": "stdout",
     "output_type": "stream",
     "text": [
      "Time takes :  0.28539299964904785\n"
     ]
    },
    {
     "name": "stderr",
     "output_type": "stream",
     "text": [
      "8it [00:05,  1.44it/s]"
     ]
    },
    {
     "name": "stdout",
     "output_type": "stream",
     "text": [
      "Time takes :  0.26390886306762695\n"
     ]
    },
    {
     "name": "stderr",
     "output_type": "stream",
     "text": [
      "9it [00:05,  1.58it/s]"
     ]
    },
    {
     "name": "stdout",
     "output_type": "stream",
     "text": [
      "Time takes :  0.30579662322998047\n"
     ]
    },
    {
     "name": "stderr",
     "output_type": "stream",
     "text": [
      "10it [00:06,  1.62it/s]"
     ]
    },
    {
     "name": "stdout",
     "output_type": "stream",
     "text": [
      "Time takes :  0.3339543342590332\n"
     ]
    },
    {
     "name": "stderr",
     "output_type": "stream",
     "text": [
      "11it [00:07,  1.65it/s]"
     ]
    },
    {
     "name": "stdout",
     "output_type": "stream",
     "text": [
      "Time takes :  0.2860562801361084\n"
     ]
    },
    {
     "name": "stderr",
     "output_type": "stream",
     "text": [
      "12it [00:07,  1.70it/s]"
     ]
    },
    {
     "name": "stdout",
     "output_type": "stream",
     "text": [
      "Time takes :  0.330564022064209\n"
     ]
    },
    {
     "name": "stderr",
     "output_type": "stream",
     "text": [
      "13it [00:08,  1.60it/s]"
     ]
    },
    {
     "name": "stdout",
     "output_type": "stream",
     "text": [
      "Time takes :  0.3418262004852295\n"
     ]
    },
    {
     "name": "stderr",
     "output_type": "stream",
     "text": [
      "14it [00:09,  1.57it/s]"
     ]
    },
    {
     "name": "stdout",
     "output_type": "stream",
     "text": [
      "Time takes :  0.2904317378997803\n"
     ]
    },
    {
     "name": "stderr",
     "output_type": "stream",
     "text": [
      "15it [00:09,  1.57it/s]"
     ]
    },
    {
     "name": "stdout",
     "output_type": "stream",
     "text": [
      "Time takes :  0.4932591915130615\n"
     ]
    },
    {
     "name": "stderr",
     "output_type": "stream",
     "text": [
      "16it [00:10,  1.35it/s]"
     ]
    },
    {
     "name": "stdout",
     "output_type": "stream",
     "text": [
      "Time takes :  0.445847749710083\n"
     ]
    },
    {
     "name": "stderr",
     "output_type": "stream",
     "text": [
      "17it [00:11,  1.30it/s]"
     ]
    },
    {
     "name": "stdout",
     "output_type": "stream",
     "text": [
      "Time takes :  0.3811936378479004\n"
     ]
    },
    {
     "name": "stderr",
     "output_type": "stream",
     "text": [
      "18it [00:12,  1.33it/s]"
     ]
    },
    {
     "name": "stdout",
     "output_type": "stream",
     "text": [
      "Time takes :  0.30344581604003906\n"
     ]
    },
    {
     "name": "stderr",
     "output_type": "stream",
     "text": [
      "19it [00:12,  1.43it/s]"
     ]
    },
    {
     "name": "stdout",
     "output_type": "stream",
     "text": [
      "Time takes :  0.3112204074859619\n"
     ]
    },
    {
     "name": "stderr",
     "output_type": "stream",
     "text": [
      "20it [00:13,  1.44it/s]"
     ]
    },
    {
     "name": "stdout",
     "output_type": "stream",
     "text": [
      "Time takes :  0.31653285026550293\n"
     ]
    },
    {
     "name": "stderr",
     "output_type": "stream",
     "text": [
      "21it [00:14,  1.44it/s]"
     ]
    },
    {
     "name": "stdout",
     "output_type": "stream",
     "text": [
      "Time takes :  0.3274850845336914\n"
     ]
    },
    {
     "name": "stderr",
     "output_type": "stream",
     "text": [
      "22it [00:14,  1.52it/s]"
     ]
    },
    {
     "name": "stdout",
     "output_type": "stream",
     "text": [
      "Time takes :  0.27063512802124023\n"
     ]
    },
    {
     "name": "stderr",
     "output_type": "stream",
     "text": [
      "23it [00:15,  1.65it/s]"
     ]
    },
    {
     "name": "stdout",
     "output_type": "stream",
     "text": [
      "Time takes :  0.3015458583831787\n"
     ]
    },
    {
     "name": "stderr",
     "output_type": "stream",
     "text": [
      "24it [00:15,  1.72it/s]"
     ]
    },
    {
     "name": "stdout",
     "output_type": "stream",
     "text": [
      "Time takes :  0.35941576957702637\n"
     ]
    },
    {
     "name": "stderr",
     "output_type": "stream",
     "text": [
      "25it [00:16,  1.67it/s]"
     ]
    },
    {
     "name": "stdout",
     "output_type": "stream",
     "text": [
      "Time takes :  0.34700870513916016\n"
     ]
    },
    {
     "name": "stderr",
     "output_type": "stream",
     "text": [
      "26it [00:16,  1.63it/s]"
     ]
    },
    {
     "name": "stdout",
     "output_type": "stream",
     "text": [
      "Time takes :  0.2791149616241455\n"
     ]
    },
    {
     "name": "stderr",
     "output_type": "stream",
     "text": [
      "27it [00:17,  1.65it/s]"
     ]
    },
    {
     "name": "stdout",
     "output_type": "stream",
     "text": [
      "Time takes :  0.30977559089660645\n"
     ]
    },
    {
     "name": "stderr",
     "output_type": "stream",
     "text": [
      "28it [00:18,  1.66it/s]"
     ]
    },
    {
     "name": "stdout",
     "output_type": "stream",
     "text": [
      "Time takes :  0.3119010925292969\n"
     ]
    },
    {
     "name": "stderr",
     "output_type": "stream",
     "text": [
      "29it [00:18,  1.63it/s]"
     ]
    },
    {
     "name": "stdout",
     "output_type": "stream",
     "text": [
      "Time takes :  0.36849212646484375\n"
     ]
    },
    {
     "name": "stderr",
     "output_type": "stream",
     "text": [
      "30it [00:19,  1.50it/s]"
     ]
    },
    {
     "name": "stdout",
     "output_type": "stream",
     "text": [
      "Time takes :  0.46319055557250977\n"
     ]
    },
    {
     "name": "stderr",
     "output_type": "stream",
     "text": [
      "31it [00:20,  1.36it/s]"
     ]
    },
    {
     "name": "stdout",
     "output_type": "stream",
     "text": [
      "Time takes :  0.46585559844970703\n"
     ]
    },
    {
     "name": "stderr",
     "output_type": "stream",
     "text": [
      "32it [00:21,  1.31it/s]"
     ]
    },
    {
     "name": "stdout",
     "output_type": "stream",
     "text": [
      "Time takes :  0.949704647064209\n"
     ]
    },
    {
     "name": "stderr",
     "output_type": "stream",
     "text": [
      "33it [00:22,  1.08it/s]"
     ]
    },
    {
     "name": "stdout",
     "output_type": "stream",
     "text": [
      "Time takes :  0.3245413303375244\n"
     ]
    },
    {
     "name": "stderr",
     "output_type": "stream",
     "text": [
      "34it [00:23,  1.21it/s]"
     ]
    },
    {
     "name": "stdout",
     "output_type": "stream",
     "text": [
      "Time takes :  0.24221158027648926\n"
     ]
    },
    {
     "name": "stderr",
     "output_type": "stream",
     "text": [
      "35it [00:23,  1.36it/s]"
     ]
    },
    {
     "name": "stdout",
     "output_type": "stream",
     "text": [
      "Time takes :  0.2749812602996826\n"
     ]
    },
    {
     "name": "stderr",
     "output_type": "stream",
     "text": [
      "36it [00:24,  1.44it/s]"
     ]
    },
    {
     "name": "stdout",
     "output_type": "stream",
     "text": [
      "Time takes :  0.30922532081604004\n"
     ]
    },
    {
     "name": "stderr",
     "output_type": "stream",
     "text": [
      "37it [00:24,  1.55it/s]"
     ]
    },
    {
     "name": "stdout",
     "output_type": "stream",
     "text": [
      "Time takes :  0.33005714416503906\n"
     ]
    },
    {
     "name": "stderr",
     "output_type": "stream",
     "text": [
      "38it [00:25,  1.50it/s]"
     ]
    },
    {
     "name": "stdout",
     "output_type": "stream",
     "text": [
      "Time takes :  0.3678867816925049\n"
     ]
    },
    {
     "name": "stderr",
     "output_type": "stream",
     "text": [
      "39it [00:26,  1.46it/s]"
     ]
    },
    {
     "name": "stdout",
     "output_type": "stream",
     "text": [
      "Time takes :  0.40854644775390625\n"
     ]
    },
    {
     "name": "stderr",
     "output_type": "stream",
     "text": [
      "40it [00:27,  1.23it/s]"
     ]
    },
    {
     "name": "stdout",
     "output_type": "stream",
     "text": [
      "Time takes :  0.29958343505859375\n"
     ]
    },
    {
     "name": "stderr",
     "output_type": "stream",
     "text": [
      "41it [00:28,  1.36it/s]"
     ]
    },
    {
     "name": "stdout",
     "output_type": "stream",
     "text": [
      "Time takes :  0.26807451248168945\n"
     ]
    },
    {
     "name": "stderr",
     "output_type": "stream",
     "text": [
      "42it [00:28,  1.43it/s]"
     ]
    },
    {
     "name": "stdout",
     "output_type": "stream",
     "text": [
      "Time takes :  0.2788734436035156\n"
     ]
    },
    {
     "name": "stderr",
     "output_type": "stream",
     "text": [
      "43it [00:29,  1.56it/s]"
     ]
    },
    {
     "name": "stdout",
     "output_type": "stream",
     "text": [
      "Time takes :  0.2606625556945801\n"
     ]
    },
    {
     "name": "stderr",
     "output_type": "stream",
     "text": [
      "44it [00:29,  1.66it/s]"
     ]
    },
    {
     "name": "stdout",
     "output_type": "stream",
     "text": [
      "Time takes :  0.3081932067871094\n"
     ]
    },
    {
     "name": "stderr",
     "output_type": "stream",
     "text": [
      "45it [00:30,  1.73it/s]"
     ]
    },
    {
     "name": "stdout",
     "output_type": "stream",
     "text": [
      "Time takes :  0.2510240077972412\n"
     ]
    },
    {
     "name": "stderr",
     "output_type": "stream",
     "text": [
      "46it [00:30,  1.81it/s]"
     ]
    },
    {
     "name": "stdout",
     "output_type": "stream",
     "text": [
      "Time takes :  0.2997932434082031\n"
     ]
    },
    {
     "name": "stderr",
     "output_type": "stream",
     "text": [
      "47it [00:31,  1.84it/s]"
     ]
    },
    {
     "name": "stdout",
     "output_type": "stream",
     "text": [
      "Time takes :  0.3812835216522217\n"
     ]
    },
    {
     "name": "stderr",
     "output_type": "stream",
     "text": [
      "48it [00:31,  1.62it/s]"
     ]
    },
    {
     "name": "stdout",
     "output_type": "stream",
     "text": [
      "Time takes :  0.3139963150024414\n"
     ]
    },
    {
     "name": "stderr",
     "output_type": "stream",
     "text": [
      "49it [00:32,  1.66it/s]"
     ]
    },
    {
     "name": "stdout",
     "output_type": "stream",
     "text": [
      "Time takes :  0.362903356552124\n"
     ]
    },
    {
     "name": "stderr",
     "output_type": "stream",
     "text": [
      "50it [00:33,  1.54it/s]"
     ]
    },
    {
     "name": "stdout",
     "output_type": "stream",
     "text": [
      "Time takes :  0.29181599617004395\n"
     ]
    },
    {
     "name": "stderr",
     "output_type": "stream",
     "text": [
      "51it [00:33,  1.52it/s]"
     ]
    },
    {
     "name": "stdout",
     "output_type": "stream",
     "text": [
      "Time takes :  0.33821606636047363\n"
     ]
    },
    {
     "name": "stderr",
     "output_type": "stream",
     "text": [
      "52it [00:34,  1.50it/s]"
     ]
    },
    {
     "name": "stdout",
     "output_type": "stream",
     "text": [
      "Time takes :  0.34180140495300293\n"
     ]
    },
    {
     "name": "stderr",
     "output_type": "stream",
     "text": [
      "53it [00:35,  1.51it/s]"
     ]
    },
    {
     "name": "stdout",
     "output_type": "stream",
     "text": [
      "Time takes :  0.29982876777648926\n"
     ]
    },
    {
     "name": "stderr",
     "output_type": "stream",
     "text": [
      "54it [00:35,  1.54it/s]"
     ]
    },
    {
     "name": "stdout",
     "output_type": "stream",
     "text": [
      "Time takes :  0.35215187072753906\n"
     ]
    },
    {
     "name": "stderr",
     "output_type": "stream",
     "text": [
      "55it [00:36,  1.59it/s]"
     ]
    },
    {
     "name": "stdout",
     "output_type": "stream",
     "text": [
      "Time takes :  0.34577465057373047\n"
     ]
    },
    {
     "name": "stderr",
     "output_type": "stream",
     "text": [
      "56it [00:37,  1.61it/s]"
     ]
    },
    {
     "name": "stdout",
     "output_type": "stream",
     "text": [
      "Time takes :  0.2907569408416748\n"
     ]
    },
    {
     "name": "stderr",
     "output_type": "stream",
     "text": [
      "57it [00:37,  1.66it/s]"
     ]
    },
    {
     "name": "stdout",
     "output_type": "stream",
     "text": [
      "Time takes :  0.3664524555206299\n"
     ]
    },
    {
     "name": "stderr",
     "output_type": "stream",
     "text": [
      "58it [00:38,  1.68it/s]"
     ]
    },
    {
     "name": "stdout",
     "output_type": "stream",
     "text": [
      "Time takes :  0.2866995334625244\n"
     ]
    },
    {
     "name": "stderr",
     "output_type": "stream",
     "text": [
      "59it [00:38,  1.68it/s]"
     ]
    },
    {
     "name": "stdout",
     "output_type": "stream",
     "text": [
      "Time takes :  0.4105861186981201\n"
     ]
    },
    {
     "name": "stderr",
     "output_type": "stream",
     "text": [
      "60it [00:39,  1.60it/s]"
     ]
    },
    {
     "name": "stdout",
     "output_type": "stream",
     "text": [
      "Time takes :  0.29724645614624023\n"
     ]
    },
    {
     "name": "stderr",
     "output_type": "stream",
     "text": [
      "61it [00:40,  1.60it/s]"
     ]
    },
    {
     "name": "stdout",
     "output_type": "stream",
     "text": [
      "Time takes :  0.48768043518066406\n"
     ]
    },
    {
     "name": "stderr",
     "output_type": "stream",
     "text": [
      "62it [00:41,  1.43it/s]"
     ]
    },
    {
     "name": "stdout",
     "output_type": "stream",
     "text": [
      "Time takes :  0.3094322681427002\n"
     ]
    },
    {
     "name": "stderr",
     "output_type": "stream",
     "text": [
      "63it [00:41,  1.51it/s]"
     ]
    },
    {
     "name": "stdout",
     "output_type": "stream",
     "text": [
      "Time takes :  0.32154369354248047\n"
     ]
    },
    {
     "name": "stderr",
     "output_type": "stream",
     "text": [
      "64it [00:42,  1.52it/s]"
     ]
    },
    {
     "name": "stdout",
     "output_type": "stream",
     "text": [
      "Time takes :  0.35242462158203125\n"
     ]
    },
    {
     "name": "stderr",
     "output_type": "stream",
     "text": [
      "65it [00:42,  1.48it/s]"
     ]
    },
    {
     "name": "stdout",
     "output_type": "stream",
     "text": [
      "Time takes :  0.3709542751312256\n"
     ]
    },
    {
     "name": "stderr",
     "output_type": "stream",
     "text": [
      "66it [00:43,  1.52it/s]"
     ]
    },
    {
     "name": "stdout",
     "output_type": "stream",
     "text": [
      "Time takes :  0.2200911045074463\n"
     ]
    },
    {
     "name": "stderr",
     "output_type": "stream",
     "text": [
      "67it [00:44,  1.57it/s]"
     ]
    },
    {
     "name": "stdout",
     "output_type": "stream",
     "text": [
      "Time takes :  0.2806861400604248\n"
     ]
    },
    {
     "name": "stderr",
     "output_type": "stream",
     "text": [
      "68it [00:44,  1.67it/s]"
     ]
    },
    {
     "name": "stdout",
     "output_type": "stream",
     "text": [
      "Time takes :  0.3605184555053711\n"
     ]
    },
    {
     "name": "stderr",
     "output_type": "stream",
     "text": [
      "69it [00:45,  1.61it/s]"
     ]
    },
    {
     "name": "stdout",
     "output_type": "stream",
     "text": [
      "Time takes :  0.2883119583129883\n"
     ]
    },
    {
     "name": "stderr",
     "output_type": "stream",
     "text": [
      "70it [00:45,  1.66it/s]"
     ]
    },
    {
     "name": "stdout",
     "output_type": "stream",
     "text": [
      "Time takes :  0.3135654926300049\n"
     ]
    },
    {
     "name": "stderr",
     "output_type": "stream",
     "text": [
      "71it [00:46,  1.64it/s]"
     ]
    },
    {
     "name": "stdout",
     "output_type": "stream",
     "text": [
      "Time takes :  0.28837156295776367\n"
     ]
    },
    {
     "name": "stderr",
     "output_type": "stream",
     "text": [
      "72it [00:47,  1.74it/s]"
     ]
    },
    {
     "name": "stdout",
     "output_type": "stream",
     "text": [
      "Time takes :  0.4289970397949219\n"
     ]
    },
    {
     "name": "stderr",
     "output_type": "stream",
     "text": [
      "73it [00:47,  1.60it/s]"
     ]
    },
    {
     "name": "stdout",
     "output_type": "stream",
     "text": [
      "Time takes :  0.5122256278991699\n"
     ]
    },
    {
     "name": "stderr",
     "output_type": "stream",
     "text": [
      "74it [00:48,  1.27it/s]"
     ]
    },
    {
     "name": "stdout",
     "output_type": "stream",
     "text": [
      "Time takes :  0.45319175720214844\n"
     ]
    },
    {
     "name": "stderr",
     "output_type": "stream",
     "text": [
      "75it [00:49,  1.24it/s]"
     ]
    },
    {
     "name": "stdout",
     "output_type": "stream",
     "text": [
      "Time takes :  0.4308493137359619\n"
     ]
    },
    {
     "name": "stderr",
     "output_type": "stream",
     "text": [
      "76it [00:50,  1.25it/s]"
     ]
    },
    {
     "name": "stdout",
     "output_type": "stream",
     "text": [
      "Time takes :  0.41373205184936523\n"
     ]
    },
    {
     "name": "stderr",
     "output_type": "stream",
     "text": [
      "77it [00:51,  1.27it/s]"
     ]
    },
    {
     "name": "stdout",
     "output_type": "stream",
     "text": [
      "Time takes :  0.32175159454345703\n"
     ]
    },
    {
     "name": "stderr",
     "output_type": "stream",
     "text": [
      "78it [00:52,  1.29it/s]"
     ]
    },
    {
     "name": "stdout",
     "output_type": "stream",
     "text": [
      "Time takes :  0.3335428237915039\n"
     ]
    },
    {
     "name": "stderr",
     "output_type": "stream",
     "text": [
      "79it [00:52,  1.35it/s]"
     ]
    },
    {
     "name": "stdout",
     "output_type": "stream",
     "text": [
      "Time takes :  1.7005677223205566\n"
     ]
    },
    {
     "name": "stderr",
     "output_type": "stream",
     "text": [
      "80it [00:54,  1.10s/it]"
     ]
    },
    {
     "name": "stdout",
     "output_type": "stream",
     "text": [
      "Time takes :  0.2809422016143799\n"
     ]
    },
    {
     "name": "stderr",
     "output_type": "stream",
     "text": [
      "81it [00:55,  1.08it/s]"
     ]
    },
    {
     "name": "stdout",
     "output_type": "stream",
     "text": [
      "Time takes :  0.34212803840637207\n"
     ]
    },
    {
     "name": "stderr",
     "output_type": "stream",
     "text": [
      "82it [00:55,  1.15it/s]"
     ]
    },
    {
     "name": "stdout",
     "output_type": "stream",
     "text": [
      "Time takes :  0.2702665328979492\n"
     ]
    },
    {
     "name": "stderr",
     "output_type": "stream",
     "text": [
      "83it [00:56,  1.20it/s]"
     ]
    },
    {
     "name": "stdout",
     "output_type": "stream",
     "text": [
      "Time takes :  0.27100658416748047\n"
     ]
    },
    {
     "name": "stderr",
     "output_type": "stream",
     "text": [
      "84it [00:57,  1.37it/s]"
     ]
    },
    {
     "name": "stdout",
     "output_type": "stream",
     "text": [
      "Time takes :  0.3847649097442627\n"
     ]
    },
    {
     "name": "stderr",
     "output_type": "stream",
     "text": [
      "85it [00:57,  1.36it/s]"
     ]
    },
    {
     "name": "stdout",
     "output_type": "stream",
     "text": [
      "Time takes :  0.35147929191589355\n"
     ]
    },
    {
     "name": "stderr",
     "output_type": "stream",
     "text": [
      "86it [00:58,  1.38it/s]"
     ]
    },
    {
     "name": "stdout",
     "output_type": "stream",
     "text": [
      "Time takes :  0.3425154685974121\n"
     ]
    },
    {
     "name": "stderr",
     "output_type": "stream",
     "text": [
      "87it [00:59,  1.43it/s]"
     ]
    },
    {
     "name": "stdout",
     "output_type": "stream",
     "text": [
      "Time takes :  0.39658474922180176\n"
     ]
    },
    {
     "name": "stderr",
     "output_type": "stream",
     "text": [
      "88it [00:59,  1.41it/s]"
     ]
    },
    {
     "name": "stdout",
     "output_type": "stream",
     "text": [
      "Time takes :  0.3691418170928955\n"
     ]
    },
    {
     "name": "stderr",
     "output_type": "stream",
     "text": [
      "89it [01:00,  1.36it/s]"
     ]
    },
    {
     "name": "stdout",
     "output_type": "stream",
     "text": [
      "Time takes :  0.2907826900482178\n"
     ]
    },
    {
     "name": "stderr",
     "output_type": "stream",
     "text": [
      "90it [01:01,  1.49it/s]"
     ]
    },
    {
     "name": "stdout",
     "output_type": "stream",
     "text": [
      "Time takes :  0.3791234493255615\n"
     ]
    },
    {
     "name": "stderr",
     "output_type": "stream",
     "text": [
      "91it [01:02,  1.43it/s]"
     ]
    },
    {
     "name": "stdout",
     "output_type": "stream",
     "text": [
      "Time takes :  0.3477020263671875\n"
     ]
    },
    {
     "name": "stderr",
     "output_type": "stream",
     "text": [
      "92it [01:02,  1.45it/s]"
     ]
    },
    {
     "name": "stdout",
     "output_type": "stream",
     "text": [
      "Time takes :  1.3116741180419922\n"
     ]
    },
    {
     "name": "stderr",
     "output_type": "stream",
     "text": [
      "93it [01:04,  1.03it/s]"
     ]
    },
    {
     "name": "stdout",
     "output_type": "stream",
     "text": [
      "Time takes :  0.39459919929504395\n"
     ]
    },
    {
     "name": "stderr",
     "output_type": "stream",
     "text": [
      "94it [01:05,  1.10it/s]"
     ]
    },
    {
     "name": "stdout",
     "output_type": "stream",
     "text": [
      "Time takes :  0.3879842758178711\n"
     ]
    },
    {
     "name": "stderr",
     "output_type": "stream",
     "text": [
      "95it [01:05,  1.16it/s]"
     ]
    },
    {
     "name": "stdout",
     "output_type": "stream",
     "text": [
      "Time takes :  0.29691028594970703\n"
     ]
    },
    {
     "name": "stderr",
     "output_type": "stream",
     "text": [
      "96it [01:06,  1.28it/s]"
     ]
    },
    {
     "name": "stdout",
     "output_type": "stream",
     "text": [
      "Time takes :  0.29194116592407227\n"
     ]
    },
    {
     "name": "stderr",
     "output_type": "stream",
     "text": [
      "97it [01:07,  1.36it/s]"
     ]
    },
    {
     "name": "stdout",
     "output_type": "stream",
     "text": [
      "Time takes :  0.27756285667419434\n"
     ]
    },
    {
     "name": "stderr",
     "output_type": "stream",
     "text": [
      "98it [01:07,  1.39it/s]"
     ]
    }
   ],
   "source": [
    "list_of_omega_data = []\n",
    "from tqdm import tqdm, trange\n",
    "for _, file in tqdm(enumerate(files)):\n",
    "    t=time.time()\n",
    "    tmp_ds = xr.open_dataset(file, decode_times=False)\n",
    "    print(\"Time takes : \", time.time()-t)\n",
    "    list_of_omega_data.append(tmp_ds[\"OMEGA500\"][:, 128:640, 320:832].values)\n",
    "    \n",
    "    \n",
    "numpy_array_of_omega = np.concatenate(list_of_omega_data, axis=0)\n",
    "print(numpy_array_of_omega.shape)"
   ]
  },
  {
   "cell_type": "code",
   "execution_count": null,
   "metadata": {},
   "outputs": [],
   "source": [
    "\n",
    "\n",
    "\n",
    "\n",
    "#  collating all files ( 1399 )  each file 8 x 512x 512 to a list\n",
    "#  and then concatenating them across axis = 0\n",
    "\n",
    "#  the resulting blob will be used to calculate normalization statistics (std, mean, max, min)\n",
    "\n",
    "\n",
    "#  ds.groupby('time.month').std('time')\n",
    "    \n",
    "    \n",
    "import os\n",
    "import time\n",
    "\n",
    "dir_path = \"/global/cscratch1/sd/rgupta2/backup/netcdf_normalized_std/\"\n",
    "\n",
    "number_of_timesteps = 500\n",
    "st_time = 10000\n",
    "end_time = 15000\n",
    "image_size = 256\n",
    "\n",
    "tt = time.time()\n",
    "\n",
    "for start_time in range(st_time, end_time, number_of_timesteps):\n",
    "    ux_data = ds['u_x'][start_time : start_time+ number_of_timesteps].values\n",
    "    uy_data = ds['u_y'][start_time : start_time+ number_of_timesteps].values\n",
    "    \n",
    "    ux_std = ux_data.std()\n",
    "    uy_std = uy_data.std()\n",
    "    \n",
    "    \n",
    "    ux_mean = ux_data.mean()\n",
    "    \n",
    "    uy_mean = uy_data.mean()\n",
    "    \n",
    "    \n",
    "    u_data_max= max( ux_data.max(), uy_data.max())\n",
    "    \n",
    "    \n",
    "    print(\"Ux_data_max = {} and Uy data max = {}\".format(ux_data.max(), uy_data.max()))\n",
    "    print(\"Ux std = {} and Uy std = {}\".format(ux_std, uy_std))\n",
    "    print(\"Ux mean = {} and Uy mean = {}\".format(ux_mean, uy_mean))\n",
    "    \n",
    "    \n",
    "#     tmp_diff_data = ds['temp_diff'][start_time : start_time+ number_of_timesteps].values\n",
    "#     press_diff_data = ds['press_diff'][start_time : start_time+ number_of_timesteps].values\n",
    "\n",
    "    print(\"Time taken to read all : \", time.time() - tt)\n",
    "    rb_data = []\n",
    "    u_x = (ux_data - ux_mean)/ux_std\n",
    "    u_y = (uy_data - uy_mean)/uy_std\n",
    "          \n",
    "\n",
    "#     tmp_diff = tmp_diff_data.reshape(number_of_timesteps, -1, image_size, image_size)\n",
    "#     press_diff = press_diff_data.reshape(number_of_timesteps, -1, image_size, image_size)\n",
    "    \n",
    "           \n",
    "    \n",
    "    u_x = u_x.reshape(number_of_timesteps, -1, image_size,image_size)\n",
    "    u_y = u_y.reshape(number_of_timesteps, -1, image_size,image_size)\n",
    "    \n",
    "    channels = np.array([u_x, u_y])\n",
    "          \n",
    "    print(channels.shape)\n",
    "          \n",
    "    Data = np.float32(channels)\n",
    "    Data = Data.transpose(1,2,0,3,4)\n",
    "    Data = Data.reshape( -1,2,image_size, image_size)\n",
    "    print(Data.shape)\n",
    "    \n",
    "    \n",
    "    save_path = os.path.join(dir_path , \"rbc_{}/\".format(number_of_timesteps))\n",
    "\n",
    "    if not os.path.exists(save_path):\n",
    "        os.makedirs(save_path)\n",
    "\n",
    "    np.save( str(save_path) + \"{}.npy\".format(start_time), Data)\n",
    "    \n",
    "    \n",
    "    print(\"Time taken to complete iteration\", time.time() - tt)\n",
    "    "
   ]
  }
 ],
 "metadata": {
  "kernelspec": {
   "display_name": "Python [conda env:.conda-tf-1.13]",
   "language": "python",
   "name": "conda-env-.conda-tf-1.13-py"
  },
  "language_info": {
   "codemirror_mode": {
    "name": "ipython",
    "version": 3
   },
   "file_extension": ".py",
   "mimetype": "text/x-python",
   "name": "python",
   "nbconvert_exporter": "python",
   "pygments_lexer": "ipython3",
   "version": "3.7.3"
  }
 },
 "nbformat": 4,
 "nbformat_minor": 4
}
