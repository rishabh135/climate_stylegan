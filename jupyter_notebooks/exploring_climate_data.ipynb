{
 "cells": [
  {
   "cell_type": "code",
   "execution_count": 8,
   "metadata": {},
   "outputs": [],
   "source": [
    "#!/bin/env python\n",
    "\n",
    "\n",
    "import sys,os,os.path,time\n",
    "sys.path.append(os.path.expanduser('/global/u1/r/rgupta2/.local/lib/python3.7/site-packages/'))\n",
    "\n",
    "# export PYTHONPATH=\"${PYTHONPATH}:/usr/local/lib/python2.7/site-packages:/usr/lib/python2.7/site-packages\"\n",
    "import numpy as np\n",
    "import time\n",
    "\n",
    "from netCDF4 import Dataset\n",
    "import matplotlib.pyplot as plt\n",
    "import xarray as xr\n",
    "\n",
    "\n",
    "# from mpl_toolkits.basemap import Basemap\n",
    "\n",
    "\n",
    "file_path = \"/global/cscratch1/sd/karthik_/CAM5.1_0.25degree/\"\n",
    "from glob import glob\n",
    "\n",
    "files = sorted(glob(file_path + \"*\"))\n",
    "# print('\\n'.join(map(str, files)))  "
   ]
  },
  {
   "cell_type": "code",
   "execution_count": 9,
   "metadata": {},
   "outputs": [
    {
     "name": "stdout",
     "output_type": "stream",
     "text": [
      "Time takes :  1.2727982997894287\n"
     ]
    }
   ],
   "source": [
    "t = time.time()\n",
    "\n",
    "ds = xr.open_dataset(files[0], decode_times=False\t)\n",
    "print(\"Time takes : \", time.time()-t)"
   ]
  },
  {
   "cell_type": "code",
   "execution_count": 10,
   "metadata": {},
   "outputs": [
    {
     "data": {
      "text/plain": [
       "KeysView(<xarray.Dataset>\n",
       "Dimensions:       (ilev: 31, lat: 768, lev: 30, lon: 1152, nbnd: 2, slat: 767, slon: 1152, time: 8)\n",
       "Coordinates:\n",
       "  * lev           (lev) float64 3.643 7.595 14.36 24.61 ... 957.5 976.3 992.6\n",
       "  * ilev          (ilev) float64 2.255 5.032 10.16 18.56 ... 967.5 985.1 1e+03\n",
       "  * time          (time) float64 0.0 0.125 0.25 0.375 0.5 0.625 0.75 0.875\n",
       "  * lat           (lat) float64 -90.0 -89.77 -89.53 -89.3 ... 89.53 89.77 90.0\n",
       "  * lon           (lon) float64 0.0 0.3125 0.625 0.9375 ... 359.1 359.4 359.7\n",
       "  * slat          (slat) float64 -89.88 -89.65 -89.41 ... 89.41 89.65 89.88\n",
       "  * slon          (slon) float64 -0.1562 0.1562 0.4688 ... 358.9 359.2 359.5\n",
       "Dimensions without coordinates: nbnd\n",
       "Data variables:\n",
       "    hyam          (lev) float64 ...\n",
       "    hybm          (lev) float64 ...\n",
       "    hyai          (ilev) float64 ...\n",
       "    hybi          (ilev) float64 ...\n",
       "    P0            float64 ...\n",
       "    date          (time) int32 ...\n",
       "    datesec       (time) int32 ...\n",
       "    w_stag        (slat) float64 ...\n",
       "    time_bnds     (time, nbnd) float64 ...\n",
       "    date_written  (time) |S8 ...\n",
       "    time_written  (time) |S8 ...\n",
       "    ntrm          int32 ...\n",
       "    ntrn          int32 ...\n",
       "    ntrk          int32 ...\n",
       "    ndbase        int32 ...\n",
       "    nsbase        int32 ...\n",
       "    nbdate        int32 ...\n",
       "    nbsec         int32 ...\n",
       "    mdt           int32 ...\n",
       "    nlon          (lat) int32 ...\n",
       "    wnummax       (lat) int32 ...\n",
       "    gw            (lat) float64 ...\n",
       "    ndcur         (time) int32 ...\n",
       "    nscur         (time) int32 ...\n",
       "    co2vmr        (time) float64 ...\n",
       "    ch4vmr        (time) float64 ...\n",
       "    n2ovmr        (time) float64 ...\n",
       "    f11vmr        (time) float64 ...\n",
       "    f12vmr        (time) float64 ...\n",
       "    sol_tsi       (time) float64 ...\n",
       "    nsteph        (time) int32 ...\n",
       "    CLDTOT        (time, lat, lon) float32 ...\n",
       "    FLDS          (time, lat, lon) float32 ...\n",
       "    FLDSC         (time, lat, lon) float32 ...\n",
       "    FLNS          (time, lat, lon) float32 ...\n",
       "    FLNSC         (time, lat, lon) float32 ...\n",
       "    FLUT          (time, lat, lon) float32 ...\n",
       "    FLUTC         (time, lat, lon) float32 ...\n",
       "    FSDS          (time, lat, lon) float32 ...\n",
       "    FSDSC         (time, lat, lon) float32 ...\n",
       "    FSNS          (time, lat, lon) float32 ...\n",
       "    FSNSC         (time, lat, lon) float32 ...\n",
       "    FSNT          (time, lat, lon) float32 ...\n",
       "    FSNTC         (time, lat, lon) float32 ...\n",
       "    LHFLX         (time, lat, lon) float32 ...\n",
       "    OMEGA500      (time, lat, lon) float32 ...\n",
       "    OMEGA850      (time, lat, lon) float32 ...\n",
       "    PRECC         (time, lat, lon) float32 ...\n",
       "    PRECL         (time, lat, lon) float32 ...\n",
       "    PRECSC        (time, lat, lon) float32 ...\n",
       "    PRECT         (time, lat, lon) float32 ...\n",
       "    PS            (time, lat, lon) float32 ...\n",
       "    SHFLX         (time, lat, lon) float32 ...\n",
       "    T500          (time, lat, lon) float32 ...\n",
       "    T850          (time, lat, lon) float32 ...\n",
       "    TMQ           (time, lat, lon) float32 ...\n",
       "    TREFHT        (time, lat, lon) float32 ...\n",
       "Attributes:\n",
       "    Conventions:      CF-1.0\n",
       "    source:           CAM\n",
       "    case:             CAM5-1-0.25degree_All-Hist_est1_v3_run1\n",
       "    title:            UNSET\n",
       "    logname:          mwehner\n",
       "    host:             nid00778\n",
       "    Version:          $Name$\n",
       "    revision_Id:      $Id$\n",
       "    initial_file:     /global/cscratch1/sd/mwehner/cam5_input_netcdf_files/CA...\n",
       "    topography_file:  /project/projectdirs/ccsm1/inputdata/atm/cam/topo/USGS_...)"
      ]
     },
     "execution_count": 10,
     "metadata": {},
     "output_type": "execute_result"
    }
   ],
   "source": [
    "ds.keys()\n"
   ]
  },
  {
   "cell_type": "code",
   "execution_count": 11,
   "metadata": {},
   "outputs": [
    {
     "data": {
      "text/plain": [
       "(8, 768, 1152)"
      ]
     },
     "execution_count": 11,
     "metadata": {},
     "output_type": "execute_result"
    }
   ],
   "source": [
    "ds[\"OMEGA500\"].shape"
   ]
  },
  {
   "cell_type": "code",
   "execution_count": 12,
   "metadata": {},
   "outputs": [
    {
     "data": {
      "text/plain": [
       "<xarray.DataArray 'OMEGA500' (time: 8)>\n",
       "array([-0.011843, -0.025709, -0.030049, -0.022776, -0.038136, -0.028068,\n",
       "       -0.002238,  0.024157], dtype=float32)\n",
       "Coordinates:\n",
       "  * time     (time) float64 0.0 0.125 0.25 0.375 0.5 0.625 0.75 0.875\n",
       "    lat      float64 -90.0\n",
       "    lon      float64 0.0\n",
       "Attributes:\n",
       "    units:         Pa/s\n",
       "    long_name:     Vertical velocity at 500 mbar pressure surface\n",
       "    cell_methods:  time: mean"
      ]
     },
     "execution_count": 12,
     "metadata": {},
     "output_type": "execute_result"
    }
   ],
   "source": [
    "ds[\"OMEGA500\"][:,0,0]\n"
   ]
  },
  {
   "cell_type": "code",
   "execution_count": 13,
   "metadata": {},
   "outputs": [
    {
     "data": {
      "text/plain": [
       "<xarray.DataArray 'OMEGA500' (time: 8)>\n",
       "array([-0.011843, -0.025709, -0.030049, -0.022776, -0.038136, -0.028068,\n",
       "       -0.002238,  0.024157], dtype=float32)\n",
       "Coordinates:\n",
       "  * time     (time) float64 0.0 0.125 0.25 0.375 0.5 0.625 0.75 0.875\n",
       "    lat      float64 -90.0\n",
       "    lon      float64 0.3125\n",
       "Attributes:\n",
       "    units:         Pa/s\n",
       "    long_name:     Vertical velocity at 500 mbar pressure surface\n",
       "    cell_methods:  time: mean"
      ]
     },
     "execution_count": 13,
     "metadata": {},
     "output_type": "execute_result"
    }
   ],
   "source": [
    "ds[\"OMEGA500\"][:,0,1]"
   ]
  },
  {
   "cell_type": "code",
   "execution_count": 47,
   "metadata": {},
   "outputs": [],
   "source": [
    "from matplotlib import pyplot as plt\n",
    "%matplotlib inline\n",
    "plt.rcParams['figure.figsize'] = (15,20)"
   ]
  },
  {
   "cell_type": "code",
   "execution_count": 34,
   "metadata": {},
   "outputs": [
    {
     "data": {
      "text/plain": [
       "(array([1., 0., 0., ..., 0., 0., 1.]),\n",
       " array([-9.689267 , -9.6881485, -9.687029 , ...,  6.7806125,  6.7817316,\n",
       "         6.7828507], dtype=float32),\n",
       " <a list of 1 Patch objects>)"
      ]
     },
     "execution_count": 34,
     "metadata": {},
     "output_type": "execute_result"
    },
    {
     "data": {
      "image/png": "[encoded data removed]",
      "text/plain": [
       "<Figure size 576x1440 with 1 Axes>"
      ]
     },
     "metadata": {
      "needs_background": "light"
     },
     "output_type": "display_data"
    }
   ],
   "source": [
    "original_data = ds[\"OMEGA500\"].values\n",
    "plt.hist(original_data.flatten(), bins='fd', histtype='step')"
   ]
  },
  {
   "cell_type": "code",
   "execution_count": 30,
   "metadata": {},
   "outputs": [
    {
     "name": "stdout",
     "output_type": "stream",
     "text": [
      "(8, 512, 512)\n"
     ]
    }
   ],
   "source": [
    "data = ds[\"OMEGA500\"][:, 128:640, 320:832].values\n",
    "print(data.shape)"
   ]
  },
  {
   "cell_type": "code",
   "execution_count": 39,
   "metadata": {},
   "outputs": [
    {
     "data": {
      "text/plain": [
       "([array([1., 0., 0., ..., 0., 0., 1.]), array([1., 0., 0., ..., 0., 0., 0.])],\n",
       " array([-9.689267 , -9.688209 , -9.687149 , ...,  6.780733 ,  6.7817917,\n",
       "         6.7828507], dtype=float32),\n",
       " <a list of 2 Lists of Patches objects>)"
      ]
     },
     "execution_count": 39,
     "metadata": {},
     "output_type": "execute_result"
    },
    {
     "data": {
      "image/png": "[encoded data removed]",
      "text/plain": [
       "<Figure size 576x1440 with 1 Axes>"
      ]
     },
     "metadata": {
      "needs_background": "light"
     },
     "output_type": "display_data"
    }
   ],
   "source": [
    "plt.hist([original_data.flatten(), data.flatten()], bins='fd', color=['b', 'r'], histtype='step')"
   ]
  },
  {
   "cell_type": "code",
   "execution_count": 23,
   "metadata": {},
   "outputs": [],
   "source": [
    "max_val, min_val, std_val, mean_val = data.max(), data.min(), data.std(), data.mean()"
   ]
  },
  {
   "cell_type": "code",
   "execution_count": 24,
   "metadata": {},
   "outputs": [
    {
     "name": "stdout",
     "output_type": "stream",
     "text": [
      "max_val 6.782850742340088  min_val -9.6892671585083  std_val 0.18770195543766022  mean_val 0.0004564703849609941 \n"
     ]
    }
   ],
   "source": [
    "print(\"Original all data max_val {}  min_val {}  std_val {}  mean_val {} \".format(max_val, min_val, std_val, mean_val))"
   ]
  },
  {
   "cell_type": "code",
   "execution_count": 25,
   "metadata": {},
   "outputs": [],
   "source": [
    "data_normalized = (data-mean_val)/std_val"
   ]
  },
  {
   "cell_type": "code",
   "execution_count": 26,
   "metadata": {},
   "outputs": [
    {
     "data": {
      "text/plain": [
       "(7077888,)"
      ]
     },
     "execution_count": 26,
     "metadata": {},
     "output_type": "execute_result"
    }
   ],
   "source": [
    "data_normalized.shape"
   ]
  },
  {
   "cell_type": "code",
   "execution_count": 32,
   "metadata": {},
   "outputs": [],
   "source": [
    "max_val, min_val, std_val, mean_val = data.max(), data.min(), data.std(), data.mean()"
   ]
  },
  {
   "cell_type": "code",
   "execution_count": 33,
   "metadata": {},
   "outputs": [
    {
     "name": "stdout",
     "output_type": "stream",
     "text": [
      "only relevant  data max_val 2.8797972202301025  min_val -9.6892671585083  std_val 0.19376632571220398  mean_val 0.0007547858403995633 \n"
     ]
    }
   ],
   "source": [
    "print(\"only relevant  data max_val {}  min_val {}  std_val {}  mean_val {} \".format(max_val, min_val, std_val, mean_val))"
   ]
  },
  {
   "cell_type": "code",
   "execution_count": 42,
   "metadata": {},
   "outputs": [
    {
     "name": "stdout",
     "output_type": "stream",
     "text": [
      "Time takes :  0.023864269256591797\n",
      "Time takes :  0.025614023208618164\n",
      "Time takes :  0.026124954223632812\n",
      "Time takes :  0.02542424201965332\n",
      "Time takes :  0.02521538734436035\n",
      "Time takes :  0.024729013442993164\n",
      "Time takes :  0.026955366134643555\n",
      "Time takes :  0.02469921112060547\n",
      "Time takes :  0.02513909339904785\n",
      "Time takes :  0.024843454360961914\n",
      "Time takes :  0.0246737003326416\n",
      "Time takes :  0.024850130081176758\n",
      "Time takes :  0.026397228240966797\n",
      "Time takes :  0.02453923225402832\n",
      "Time takes :  0.02506709098815918\n",
      "Time takes :  0.02464008331298828\n",
      "Time takes :  0.024856090545654297\n",
      "Time takes :  0.025044918060302734\n",
      "Time takes :  0.024099111557006836\n",
      "Time takes :  0.024486303329467773\n",
      "Time takes :  0.024967670440673828\n",
      "Time takes :  0.02462172508239746\n",
      "Time takes :  0.02474379539489746\n",
      "Time takes :  0.02772068977355957\n",
      "Time takes :  0.02731466293334961\n",
      "Time takes :  0.026745319366455078\n",
      "Time takes :  0.02595233917236328\n",
      "Time takes :  0.026487112045288086\n"
     ]
    }
   ],
   "source": [
    "list_of_omega_data = []\n",
    "for file in files:\n",
    "    t=time.time()\n",
    "    tmp_ds = xr.open_dataset(file, decode_times=False)\n",
    "    print(\"Time takes : \", time.time()-t)\n",
    "    list_of_omega_data.append(tmp_ds[\"OMEGA500\"][:, 128:640, 320:832].values)\n",
    "    "
   ]
  },
  {
   "cell_type": "code",
   "execution_count": 43,
   "metadata": {},
   "outputs": [],
   "source": [
    "\n",
    "final_data = np.concatenate(list_of_omega_data, axis=0)\n"
   ]
  },
  {
   "cell_type": "code",
   "execution_count": 45,
   "metadata": {},
   "outputs": [
    {
     "name": "stdout",
     "output_type": "stream",
     "text": [
      "final_data max_val 6.457225799560547  min_val -10.614160537719727  std_val 0.2059687376022339  mean_val -0.0023664627224206924 \n"
     ]
    }
   ],
   "source": [
    "final_data.shape\n",
    "max_val, min_val, std_val, mean_val = final_data.max(), final_data.min(), final_data.std(), final_data.mean()\n",
    "print(\"final_data max_val {}  min_val {}  std_val {}  mean_val {} \".format(max_val, min_val, std_val, mean_val))\n",
    "final_normalized_data = (final_data-mean_val)/std_val\n"
   ]
  },
  {
   "cell_type": "code",
   "execution_count": 48,
   "metadata": {},
   "outputs": [
    {
     "data": {
      "text/plain": [
       "([array([0., 0., 0., ..., 0., 0., 0.]), array([1., 0., 0., ..., 0., 0., 1.])],\n",
       " array([-51.521385, -51.520287, -51.519188, ...,  31.359806,  31.360905,\n",
       "         31.362003], dtype=float32),\n",
       " <a list of 2 Lists of Patches objects>)"
      ]
     },
     "execution_count": 48,
     "metadata": {},
     "output_type": "execute_result"
    },
    {
     "data": {
      "image/png": "[encoded data removed]",
      "text/plain": [
       "<Figure size 1080x1440 with 1 Axes>"
      ]
     },
     "metadata": {
      "needs_background": "light"
     },
     "output_type": "display_data"
    }
   ],
   "source": [
    "plt.hist([final_data.flatten(), final_normalized_data.flatten()], bins='fd', color=['b', 'r'], histtype='step')"
   ]
  },
  {
   "cell_type": "code",
   "execution_count": 50,
   "metadata": {},
   "outputs": [],
   "source": [
    "total_seeds = [ np.random.randint(low=0, high=10000) for i in range(10)]"
   ]
  },
  {
   "cell_type": "code",
   "execution_count": 51,
   "metadata": {},
   "outputs": [
    {
     "data": {
      "text/plain": [
       "[8477, 4342, 5617, 6317, 1946, 2792, 9681, 2855, 4660, 2298]"
      ]
     },
     "execution_count": 51,
     "metadata": {},
     "output_type": "execute_result"
    }
   ],
   "source": [
    "total_seeds"
   ]
  },
  {
   "cell_type": "code",
   "execution_count": null,
   "metadata": {},
   "outputs": [],
   "source": []
  }
 ],
 "metadata": {
  "kernelspec": {
   "display_name": "Python [conda env:.conda-tf-1.13]",
   "language": "python",
   "name": "conda-env-.conda-tf-1.13-py"
  },
  "language_info": {
   "codemirror_mode": {
    "name": "ipython",
    "version": 3
   },
   "file_extension": ".py",
   "mimetype": "text/x-python",
   "name": "python",
   "nbconvert_exporter": "python",
   "pygments_lexer": "ipython3",
   "version": "3.7.3"
  }
 },
 "nbformat": 4,
 "nbformat_minor": 4
}
