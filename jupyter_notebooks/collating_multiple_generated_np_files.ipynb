{
 "cells": [
  {
   "cell_type": "code",
   "execution_count": null,
   "metadata": {},
   "outputs": [],
   "source": [
    "from __future__ import absolute_import, division, print_function, unicode_literals\n",
    "import matplotlib as mpl\n",
    "mpl.use('Agg')\n",
    "import matplotlib.pyplot as plt\n",
    "\n",
    "import time, re, sys, os\n",
    "import numpy as np\n",
    "import PIL.Image\n",
    "from tqdm import tqdm\n",
    "from glob import glob\n"
   ]
  },
  {
   "cell_type": "code",
   "execution_count": 3,
   "metadata": {},
   "outputs": [
    {
     "name": "stdout",
     "output_type": "stream",
     "text": [
      "Number of files : 9\n",
      "total_number_of_files: 9 and shape of each file (50, 512, 512, 1)\n"
     ]
    }
   ],
   "source": [
    "\n",
    "counter = 255468\n",
    "\n",
    "\n",
    "path = \"/global/cscratch1/sd/rgupta2/backup/climate_stylegan/stored_outputs/wo_norm_512/result/single_generator_results/generator_{}_images_50_file_*.npy\".format(counter)\n",
    "\n",
    "\n",
    "\n",
    "files = sorted(glob(path))\n",
    "\n",
    "print(\"Number of files : {}\".format(len(files)))\n",
    "\n",
    "list_of_generated_images = []\n",
    "\n",
    "for file in files:\n",
    "    my_dict_back = np.load(file, allow_pickle=True)\t\n",
    "    generated_images = my_dict_back.item()[\"generated_images\"]\n",
    "    list_of_generated_images.append(generated_images)\n",
    "    \n",
    "\n",
    "    \n",
    "print(\"total_number_of_files: {} and shape of each file {}\".format(len(list_of_generated_images) ,  list_of_generated_images[0].shape))\n",
    "    \n",
    "    \n",
    "save_path = \"/global/cscratch1/sd/rgupta2/backup/StyleGAN/Mustafa_files/\"\n",
    "\n",
    "if not os.path.exists(save_path):\n",
    "    os.makedirs(save_path)\n",
    "    \n",
    "    \n",
    "final_array = np.concatenate(list_of_generated_images, axis=0 )\n",
    "np.save(save_path + \"climate_images_at_generator_{}_wo_norm_512.npy\".format(counter), final_array)"
   ]
  },
  {
   "cell_type": "code",
   "execution_count": 10,
   "metadata": {},
   "outputs": [
    {
     "name": "stdout",
     "output_type": "stream",
     "text": [
      "Number of files : 12\n",
      "total_number_of_files: 12 and shape of each file (50, 256, 256, 2)\n"
     ]
    }
   ],
   "source": [
    "counter_divergence = 462343 \n",
    "counter_without_divergence = 434218\n",
    "\n",
    "\n",
    "without_divergence_path = \"/global/cscratch1/sd/rgupta2/backup/StyleGAN/src/stored_outputs/one_seventh_new/result/single_generator_results/generator_{}_images_50_file_*.npy\".format(counter_without_divergence)\n",
    "\n",
    "\n",
    "files = sorted(glob(without_divergence_path))\n",
    "\n",
    "print(\"Number of files : {}\".format(len(files)))\n",
    "\n",
    "list_of_generated_images = []\n",
    "\n",
    "for file in files:\n",
    "    my_dict_back = np.load(file, allow_pickle=True)\t\n",
    "    generated_images = my_dict_back.item()[\"generated_images\"]\n",
    "    list_of_generated_images.append(generated_images)\n",
    "    \n",
    "\n",
    "    \n",
    "print(\"total_number_of_files: {} and shape of each file {}\".format(len(list_of_generated_images) ,  list_of_generated_images[0].shape))\n",
    "    \n",
    "    \n",
    "save_path = \"/global/cscratch1/sd/rgupta2/backup/StyleGAN/Mustafa_files/\"\n",
    "\n",
    "if not os.path.exists(save_path):\n",
    "    os.makedirs(save_path)\n",
    "    \n",
    "    \n",
    "final_array = np.concatenate(list_of_generated_images, axis=0 )\n",
    "np.save(save_path + \"generated_images_at_generator_{}_without_divergence_loss.npy\".format(counter_without_divergence), final_array)"
   ]
  },
  {
   "cell_type": "code",
   "execution_count": null,
   "metadata": {},
   "outputs": [],
   "source": [
    "\n",
    "counter = 191718\n",
    "\n",
    "\n",
    "path = \"/global/cscratch1/sd/rgupta2/backup/climate_stylegan/stored_outputs/normalized_seven_channel_512/result/single_generator_results/generator_{}_images_50_file_*.npy\".format(counter)\n",
    "\n",
    "\n",
    "\n",
    "files = sorted(glob(path))\n",
    "\n",
    "print(\"Number of files : {}\".format(len(files)))\n",
    "\n",
    "list_of_generated_images = []\n",
    "\n",
    "for file in files:\n",
    "    my_dict_back = np.load(file, allow_pickle=True)\t\n",
    "    generated_images = my_dict_back.item()[\"generated_images\"]\n",
    "    list_of_generated_images.append(generated_images)\n",
    "    \n",
    "\n",
    "    \n",
    "print(\"total_number_of_files: {} and shape of each file {}\".format(len(list_of_generated_images) ,  list_of_generated_images[0].shape))\n",
    "    \n",
    "    \n",
    "save_path = \"/global/cscratch1/sd/rgupta2/backup/StyleGAN/Mustafa_files/\"\n",
    "\n",
    "if not os.path.exists(save_path):\n",
    "    os.makedirs(save_path)\n",
    "    \n",
    "    \n",
    "final_array = np.concatenate(list_of_generated_images, axis=0 )\n",
    "np.save(save_path + \"climate_images_at_generator_{}_wo_norm_512.npy\".format(counter), final_array)"
   ]
  }
 ],
 "metadata": {
  "kernelspec": {
   "display_name": "Python [conda env:.conda-tf-1.13]",
   "language": "python",
   "name": "conda-env-.conda-tf-1.13-py"
  },
  "language_info": {
   "codemirror_mode": {
    "name": "ipython",
    "version": 3
   },
   "file_extension": ".py",
   "mimetype": "text/x-python",
   "name": "python",
   "nbconvert_exporter": "python",
   "pygments_lexer": "ipython3",
   "version": "3.7.3"
  }
 },
 "nbformat": 4,
 "nbformat_minor": 4
}
