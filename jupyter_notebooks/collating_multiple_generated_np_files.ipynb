{
 "cells": [
  {
   "cell_type": "code",
   "execution_count": 1,
   "metadata": {},
   "outputs": [],
   "source": [
    "from __future__ import absolute_import, division, print_function, unicode_literals\n",
    "import matplotlib as mpl\n",
    "mpl.use('Agg')\n",
    "import matplotlib.pyplot as plt\n",
    "\n",
    "import time, re, sys, os\n",
    "import numpy as np\n",
    "import PIL.Image\n",
    "from tqdm import tqdm\n",
    "from glob import glob\n",
    "\n",
    "\n",
    "\n",
    "\n",
    "\n",
    "import matplotlib.pyplot as plt\n",
    "\t\n",
    "%matplotlib inline\n",
    "plt.rcParams['figure.figsize'] = (8,10)\n",
    "\n",
    "\n",
    "import pandas as pd\n",
    "import xarray as xr\n",
    "from glob import glob\n",
    "import numpy as np\n",
    "from scipy import stats\n",
    "# Install a pip package in the current Jupyter kernel\n",
    "# !{sys.executable} -m pip install --user Pillow\n",
    "\n",
    "from PIL import Image\n",
    "\n"
   ]
  },
  {
   "cell_type": "code",
   "execution_count": 3,
   "metadata": {},
   "outputs": [
    {
     "name": "stdout",
     "output_type": "stream",
     "text": [
      "Number of files : 9\n",
      "total_number_of_files: 9 and shape of each file (50, 512, 512, 1)\n"
     ]
    }
   ],
   "source": [
    "\n",
    "counter = 255468\n",
    "\n",
    "\n",
    "path = \"/global/cscratch1/sd/rgupta2/backup/climate_stylegan/stored_outputs/wo_norm_512/result/single_generator_results/generator_{}_images_50_file_*.npy\".format(counter)\n",
    "\n",
    "\n",
    "\n",
    "files = sorted(glob(path))\n",
    "\n",
    "print(\"Number of files : {}\".format(len(files)))\n",
    "\n",
    "list_of_generated_images = []\n",
    "\n",
    "for file in files:\n",
    "    my_dict_back = np.load(file, allow_pickle=True)\t\n",
    "    generated_images = my_dict_back.item()[\"generated_images\"]\n",
    "    list_of_generated_images.append(generated_images)\n",
    "    \n",
    "\n",
    "    \n",
    "print(\"total_number_of_files: {} and shape of each file {}\".format(len(list_of_generated_images) ,  list_of_generated_images[0].shape))\n",
    "    \n",
    "    \n",
    "save_path = \"/global/cscratch1/sd/rgupta2/backup/StyleGAN/Mustafa_files/\"\n",
    "\n",
    "if not os.path.exists(save_path):\n",
    "    os.makedirs(save_path)\n",
    "    \n",
    "    \n",
    "final_array = np.concatenate(list_of_generated_images, axis=0 )\n",
    "np.save(save_path + \"climate_images_at_generator_{}_wo_norm_512.npy\".format(counter), final_array)"
   ]
  },
  {
   "cell_type": "code",
   "execution_count": 10,
   "metadata": {},
   "outputs": [
    {
     "name": "stdout",
     "output_type": "stream",
     "text": [
      "Number of files : 12\n",
      "total_number_of_files: 12 and shape of each file (50, 256, 256, 2)\n"
     ]
    }
   ],
   "source": [
    "counter_divergence = 462343 \n",
    "counter_without_divergence = 434218\n",
    "\n",
    "\n",
    "without_divergence_path = \"/global/cscratch1/sd/rgupta2/backup/StyleGAN/src/stored_outputs/one_seventh_new/result/single_generator_results/generator_{}_images_50_file_*.npy\".format(counter_without_divergence)\n",
    "\n",
    "\n",
    "files = sorted(glob(without_divergence_path))\n",
    "\n",
    "print(\"Number of files : {}\".format(len(files)))\n",
    "\n",
    "list_of_generated_images = []\n",
    "\n",
    "for file in files:\n",
    "    my_dict_back = np.load(file, allow_pickle=True)\t\n",
    "    generated_images = my_dict_back.item()[\"generated_images\"]\n",
    "    list_of_generated_images.append(generated_images)\n",
    "    \n",
    "\n",
    "    \n",
    "print(\"total_number_of_files: {} and shape of each file {}\".format(len(list_of_generated_images) ,  list_of_generated_images[0].shape))\n",
    "    \n",
    "    \n",
    "save_path = \"/global/cscratch1/sd/rgupta2/backup/StyleGAN/Mustafa_files/\"\n",
    "\n",
    "if not os.path.exists(save_path):\n",
    "    os.makedirs(save_path)\n",
    "    \n",
    "    \n",
    "final_array = np.concatenate(list_of_generated_images, axis=0 )\n",
    "np.save(save_path + \"generated_images_at_generator_{}_without_divergence_loss.npy\".format(counter_without_divergence), final_array)"
   ]
  },
  {
   "cell_type": "code",
   "execution_count": 2,
   "metadata": {},
   "outputs": [
    {
     "name": "stdout",
     "output_type": "stream",
     "text": [
      "Number of files : 12\n",
      "total_number_of_files: 12 and shape of each file (50, 512, 512, 1)\n"
     ]
    }
   ],
   "source": [
    "\n",
    "counter = 246718\n",
    "\n",
    "\n",
    "path = \"/global/cscratch1/sd/rgupta2/backup/climate_stylegan/stored_outputs/wo_norm_512_logan/result/single_generator_results/generator_{}_images_50_file_*.npy\".format(counter)\n",
    "\n",
    "\n",
    "\n",
    "files = sorted(glob(path))\n",
    "\n",
    "print(\"Number of files : {}\".format(len(files)))\n",
    "\n",
    "list_of_generated_images = []\n",
    "\n",
    "for file in files:\n",
    "    my_dict_back = np.load(file, allow_pickle=True)\t\n",
    "    generated_images = my_dict_back.item()[\"generated_images\"]\n",
    "    list_of_generated_images.append(generated_images)\n",
    "    \n",
    "\n",
    "    \n",
    "print(\"total_number_of_files: {} and shape of each file {}\".format(len(list_of_generated_images) ,  list_of_generated_images[0].shape))\n",
    "    \n",
    "    \n",
    "save_path = \"/global/cscratch1/sd/rgupta2/backup/climate_stylegan/test_samples/\"\n",
    "\n",
    "if not os.path.exists(save_path):\n",
    "    os.makedirs(save_path)\n",
    "    \n",
    "    \n",
    "final_array = np.concatenate(list_of_generated_images, axis=0 )\n",
    "np.save(save_path + \"logan_climate_images_at_generator_{}_wo_norm_one_channel_512.npy\".format(counter), final_array)\n",
    "\n",
    "\n",
    "\n",
    "\n",
    "\n"
   ]
  },
  {
   "cell_type": "code",
   "execution_count": 9,
   "metadata": {},
   "outputs": [
    {
     "name": "stdout",
     "output_type": "stream",
     "text": [
      "(2920, 7, 512, 512)\n",
      "(2920, 512, 512, 1)\n"
     ]
    }
   ],
   "source": [
    "# Extracting only omega channel from the unnormalized data to send to taobrien\n",
    "\n",
    "\n",
    "load_path_unnormalized = \"/project/projectdirs/dasrepo/mustafa/data/climate/sims/unnormalized/seven_channels_1996.npy\"\n",
    "tmp_array = np.load(load_path_unnormalized, allow_pickle=True)\n",
    "print(tmp_array.shape)\n",
    "only_omega_channel = tmp_array[:, -1:, :, :].transpose(0,2,3,1)\n",
    "print(only_omega_channel.shape)\n",
    "np.random.shuffle(only_omega_channel)\n",
    "np.save(save_path + \"omega_one_channel_real_1996_year.npy\".format(counter), only_omega_channel[:600] )\n"
   ]
  },
  {
   "cell_type": "code",
   "execution_count": 3,
   "metadata": {},
   "outputs": [
    {
     "name": "stdout",
     "output_type": "stream",
     "text": [
      "Number of files : 17\n",
      "total_number_of_files: 17 and shape of each file (50, 512, 512, 7)\n"
     ]
    }
   ],
   "source": [
    "\n",
    "# collating files for logan seven channel normalized_version march 2019 \n",
    "\n",
    "counter = 266718\n",
    "\n",
    "\n",
    "path = \"/global/cscratch1/sd/rgupta2/backup/climate_stylegan/stored_outputs/logan_seven_channel_norm/result/single_generator_results/generator_{}_images_50_file_*.npy\".format(counter)\n",
    "\n",
    "\n",
    "\n",
    "files = sorted(glob(path))\n",
    "\n",
    "print(\"Number of files : {}\".format(len(files)))\n",
    "\n",
    "list_of_generated_images = []\n",
    "\n",
    "for file in files:\n",
    "    my_dict_back = np.load(file, allow_pickle=True)\t\n",
    "    generated_images = my_dict_back.item()[\"generated_images\"]\n",
    "    list_of_generated_images.append(generated_images)\n",
    "    \n",
    "\n",
    "    \n",
    "print(\"total_number_of_files: {} and shape of each file {}\".format(len(list_of_generated_images) ,  list_of_generated_images[0].shape))\n",
    "    \n",
    "    \n",
    "save_path = \"/global/cscratch1/sd/rgupta2/backup/climate_stylegan/test_samples/\"\n",
    "\n",
    "if not os.path.exists(save_path):\n",
    "    os.makedirs(save_path)\n",
    "    \n",
    "    \n",
    "final_array = np.concatenate(list_of_generated_images, axis=0 )\n",
    "np.save(save_path + \"logan_seven_channel_norm_climate_images_at_generator_{}_512.npy\".format(counter), final_array)"
   ]
  },
  {
   "cell_type": "code",
   "execution_count": 2,
   "metadata": {},
   "outputs": [
    {
     "name": "stdout",
     "output_type": "stream",
     "text": [
      "Number of files : 20\n",
      "total_number_of_files: 20 and shape of each file (50, 512, 512, 3)\n"
     ]
    }
   ],
   "source": [
    "\n",
    "# collating files for logan seven channel normalized_version march 2019 \n",
    "\n",
    "counter = 267968\n",
    "\n",
    "\n",
    "path = \"/global/cscratch1/sd/rgupta2/backup/climate_stylegan/stored_outputs/logan_three_channel_norm/result/single_generator_results/generator_{}_images_50_file_*.npy\".format(counter)\n",
    "\n",
    "\n",
    "\n",
    "files = sorted(glob(path))\n",
    "\n",
    "print(\"Number of files : {}\".format(len(files)))\n",
    "\n",
    "list_of_generated_images = []\n",
    "\n",
    "for file in files:\n",
    "    my_dict_back = np.load(file, allow_pickle=True)\t\n",
    "    generated_images = my_dict_back.item()[\"generated_images\"]\n",
    "    list_of_generated_images.append(generated_images)\n",
    "    \n",
    "\n",
    "    \n",
    "print(\"total_number_of_files: {} and shape of each file {}\".format(len(list_of_generated_images) ,  list_of_generated_images[0].shape))\n",
    "    \n",
    "    \n",
    "save_path = \"/global/cscratch1/sd/rgupta2/backup/climate_stylegan/test_samples/\"\n",
    "\n",
    "if not os.path.exists(save_path):\n",
    "    os.makedirs(save_path)\n",
    "    \n",
    "    \n",
    "final_array = np.concatenate(list_of_generated_images, axis=0 )\n",
    "np.save(save_path + \"logan_three_channel_norm_climate_images_at_generator_{}_512.npy\".format(counter), final_array)"
   ]
  },
  {
   "cell_type": "code",
   "execution_count": 3,
   "metadata": {},
   "outputs": [
    {
     "name": "stdout",
     "output_type": "stream",
     "text": [
      "Number of files : 7\n",
      "total_number_of_files: 7 and shape of each file (400, 128, 128, 1)\n"
     ]
    }
   ],
   "source": [
    "\n",
    "# collating files for logan seven channel normalized_version march 2019 \n",
    "\n",
    "\n",
    "\n",
    "#  This one is for 128 dinesional vector generated out of 1 channel wo_norm logan\n",
    "counter = 104218\n",
    "\n",
    "\n",
    "path = \"/global/cscratch1/sd/rgupta2/backup/climate_stylegan/stored_outputs/wo_norm_128_crop_one_channel/result/single_generator_results/generator_{}_images_50_file_*.npy\".format(counter)\n",
    "\n",
    "\n",
    "\n",
    "files = sorted(glob(path))\n",
    "\n",
    "print(\"Number of files : {}\".format(len(files)))\n",
    "\n",
    "list_of_generated_images = []\n",
    "\n",
    "for file in files:\n",
    "    my_dict_back = np.load(file, allow_pickle=True)\t\n",
    "    generated_images = my_dict_back.item()[\"generated_images\"]\n",
    "    list_of_generated_images.append(generated_images)\n",
    "    \n",
    "\n",
    "    \n",
    "print(\"total_number_of_files: {} and shape of each file {}\".format(len(list_of_generated_images) ,  list_of_generated_images[0].shape))\n",
    "    \n",
    "    \n",
    "save_path = \"/global/cscratch1/sd/rgupta2/backup/climate_stylegan/test_samples/\"\n",
    "\n",
    "if not os.path.exists(save_path):\n",
    "    os.makedirs(save_path)\n",
    "    \n",
    "    \n",
    "final_array = np.concatenate(list_of_generated_images, axis=0 )\n",
    "np.save(save_path + \"128_dimensional_logan_one_channel_norm_climate_images_at_generator_{}_512.npy\".format(counter), final_array)"
   ]
  },
  {
   "cell_type": "code",
   "execution_count": 1,
   "metadata": {},
   "outputs": [],
   "source": [
    "######################################################################################################\n",
    "######################################################################################################\n",
    "######################################################################################################\n",
    "\n",
    "\n",
    "\n",
    "# Climate data for 2 channel 128 logan stylegan1\n",
    "\n",
    "\n",
    "######################################################################################################\n",
    "######################################################################################################\n",
    "######################################################################################################\n"
   ]
  },
  {
   "cell_type": "code",
   "execution_count": 5,
   "metadata": {},
   "outputs": [
    {
     "name": "stdout",
     "output_type": "stream",
     "text": [
      "Number of files : 3\n",
      "total_number_of_files: 3 and shape of each file (400, 128, 128, 2)\n"
     ]
    }
   ],
   "source": [
    "\n",
    "# collating files for logan seven channel normalized_version march 2019 \n",
    "\n",
    "\n",
    "\n",
    "#  This one is for 128 dinesional vector generated out of 1 channel wo_norm logan\n",
    "counter = 216718\n",
    "\n",
    "\n",
    "# path = \"/global/cscratch1/sd/rgupta2/backup/climate_stylegan/stored_outputs/wo_norm_128_crop_one_channel/result/single_generator_results/generator_{}_images_50_file_*.npy\".format(counter)\n",
    "path = \"/global/cscratch1/sd/rgupta2/backup/climate_stylegan/stored_outputs/2_channel_logan_wo_norm_128_crop_ux_uy/result/single_generator_results/generator_{}_images_50_file_*.npy\".format(counter)\n",
    "\n",
    "\n",
    "\n",
    "\n",
    "files = sorted(glob(path))\n",
    "\n",
    "print(\"Number of files : {}\".format(len(files)))\n",
    "\n",
    "list_of_generated_images = []\n",
    "\n",
    "for file in files:\n",
    "    my_dict_back = np.load(file, allow_pickle=True)\t\n",
    "    generated_images = my_dict_back.item()[\"generated_images\"]\n",
    "    list_of_generated_images.append(generated_images)\n",
    "    \n",
    "\n",
    "    \n",
    "print(\"total_number_of_files: {} and shape of each file {}\".format(len(list_of_generated_images) ,  list_of_generated_images[0].shape))\n",
    "    \n",
    "    \n",
    "save_path = \"/global/cscratch1/sd/rgupta2/backup/climate_stylegan/test_samples/\"\n",
    "\n",
    "if not os.path.exists(save_path):\n",
    "    os.makedirs(save_path)\n",
    "    \n",
    "    \n",
    "final_array = np.concatenate(list_of_generated_images, axis=0 )\n",
    "np.save(save_path + \"128_dimensional_logan_two_channel_ux_uy_without_norm_climate_images_at_generator_{}.npy\".format(counter), final_array)"
   ]
  },
  {
   "cell_type": "code",
   "execution_count": null,
   "metadata": {},
   "outputs": [],
   "source": []
  },
  {
   "cell_type": "code",
   "execution_count": 4,
   "metadata": {},
   "outputs": [
    {
     "name": "stdout",
     "output_type": "stream",
     "text": [
      "Number of files : 3\n",
      "total_number_of_files: 3 and shape of each file (50, 128, 128, 1)\n"
     ]
    }
   ],
   "source": [
    "\n",
    "\n",
    "#  This one is for 128 dinesional vector generated out of 1 channel wo_norm logan\n",
    "counter = 163593\n",
    "\n",
    "\n",
    "# path = \"/global/cscratch1/sd/rgupta2/backup/climate_stylegan/stored_outputs/wo_norm_128_crop_one_channel/result/single_generator_results/generator_{}_images_50_file_*.npy\".format(counter)\n",
    "path = \"/global/cscratch1/sd/rgupta2/backup/climate_stylegan/stored_outputs/wo_norm_128_crop_one_channel_ux/result/single_generator_results/generator_{}_images_50_file_*.npy\".format(counter)\n",
    "\n",
    "\n",
    "\n",
    "\n",
    "\n",
    "files = sorted(glob(path))\n",
    "\n",
    "print(\"Number of files : {}\".format(len(files)))\n",
    "\n",
    "list_of_generated_images = []\n",
    "\n",
    "for file in files:\n",
    "    my_dict_back = np.load(file, allow_pickle=True)\t\n",
    "    generated_images = my_dict_back.item()[\"generated_images\"]\n",
    "    list_of_generated_images.append(generated_images)\n",
    "    \n",
    "\n",
    "    \n",
    "print(\"total_number_of_files: {} and shape of each file {}\".format(len(list_of_generated_images) ,  list_of_generated_images[0].shape))\n",
    "    \n",
    "    \n",
    "save_path = \"/global/cscratch1/sd/rgupta2/backup/climate_stylegan/test_samples/\"\n",
    "\n",
    "if not os.path.exists(save_path):\n",
    "    os.makedirs(save_path)\n",
    "    \n",
    "    \n",
    "final_array = np.concatenate(list_of_generated_images, axis=0 )\n",
    "np.save(save_path + \"128_dimensional_logan_one_channel_ux_alone_without_norm_climate_images_at_generator_{}.npy\".format(counter), final_array)    \n",
    "    "
   ]
  },
  {
   "cell_type": "code",
   "execution_count": null,
   "metadata": {},
   "outputs": [],
   "source": []
  },
  {
   "cell_type": "code",
   "execution_count": 2,
   "metadata": {},
   "outputs": [
    {
     "name": "stdout",
     "output_type": "stream",
     "text": [
      "Number of files : 3\n",
      "total_number_of_files: 3 and shape of each file (50, 128, 128, 1)\n"
     ]
    }
   ],
   "source": [
    "\n",
    "\n",
    "\n",
    "\n",
    "\n",
    "\n",
    "\n",
    "#  This one is for 128 dinesional vector generated out of 1 channel wo_norm logan\n",
    "counter = 50000\n",
    "\n",
    "\n",
    "# path = \"/global/cscratch1/sd/rgupta2/backup/climate_stylegan/stored_outputs/wo_norm_128_crop_one_channel/result/single_generator_results/generator_{}_images_50_file_*.npy\".format(counter)\n",
    "path = \"/global/cscratch1/sd/rgupta2/backup/climate_stylegan/stored_outputs/wo_norm_omega_128_2/result/single_generator_results/generator_{}_images_50_file_*.npy\".format(counter)\n",
    "\n",
    "\n",
    "\n",
    "\n",
    "\n",
    "files = sorted(glob(path))\n",
    "\n",
    "print(\"Number of files : {}\".format(len(files)))\n",
    "\n",
    "list_of_generated_images = []\n",
    "\n",
    "for file in files:\n",
    "    my_dict_back = np.load(file, allow_pickle=True)\t\n",
    "    generated_images = my_dict_back.item()[\"generated_images\"]\n",
    "    list_of_generated_images.append(generated_images)\n",
    "    \n",
    "\n",
    "    \n",
    "print(\"total_number_of_files: {} and shape of each file {}\".format(len(list_of_generated_images) ,  list_of_generated_images[0].shape))\n",
    "    \n",
    "    \n",
    "save_path = \"/global/cscratch1/sd/rgupta2/backup/climate_stylegan/test_samples/\"\n",
    "\n",
    "if not os.path.exists(save_path):\n",
    "    os.makedirs(save_path)\n",
    "    \n",
    "    \n",
    "final_array = np.concatenate(list_of_generated_images, axis=0 )\n",
    "np.save(save_path + \"128_dimensional_logan_one_channel_omega_alone_without_norm_climate_images_at_generator_{}.npy\".format(counter), final_array)    \n",
    "    \n",
    "\n"
   ]
  },
  {
   "cell_type": "code",
   "execution_count": 2,
   "metadata": {},
   "outputs": [
    {
     "name": "stdout",
     "output_type": "stream",
     "text": [
      "Number of files : 9\n",
      "total_number_of_files: 9 and shape of each file (50, 128, 128, 1)\n"
     ]
    }
   ],
   "source": [
    "\n",
    "\n",
    "\n",
    "\n",
    "\n",
    "\n",
    "\n",
    "#  This one is for 128 dinesional vector generated out of 1 channel wo_norm logan\n",
    "counter = 72500\n",
    "\n",
    "\n",
    "# path = \"/global/cscratch1/sd/rgupta2/backup/climate_stylegan/stored_outputs/wo_norm_128_crop_one_channel/result/single_generator_results/generator_{}_images_50_file_*.npy\".format(counter)\n",
    "path = \"/global/cscratch1/sd/rgupta2/backup/climate_stylegan/stored_outputs/feature_matching_step_annealing_custom_cropping_logan_annealed_omega_128/result/single_generator_results/generator_{}_images_50_file_*.npy\".format(counter)\n",
    "\n",
    "\n",
    "\n",
    "\n",
    "\n",
    "files = sorted(glob(path))\n",
    "\n",
    "print(\"Number of files : {}\".format(len(files)))\n",
    "\n",
    "list_of_generated_images = []\n",
    "\n",
    "for file in files:\n",
    "    my_dict_back = np.load(file, allow_pickle=True)\t\n",
    "    generated_images = my_dict_back.item()[\"generated_images\"]\n",
    "    list_of_generated_images.append(generated_images)\n",
    "    \n",
    "\n",
    "    \n",
    "print(\"total_number_of_files: {} and shape of each file {}\".format(len(list_of_generated_images) ,  list_of_generated_images[0].shape))\n",
    "    \n",
    "    \n",
    "save_path = \"/global/cscratch1/sd/rgupta2/backup/climate_stylegan/test_samples/\"\n",
    "\n",
    "if not os.path.exists(save_path):\n",
    "    os.makedirs(save_path)\n",
    "    \n",
    "    \n",
    "final_array = np.concatenate(list_of_generated_images, axis=0 )\n",
    "np.save(save_path + \"feature_matching_step_annealing_custom_cropping_logan_annealed_omega_128_{}.npy\".format(counter), final_array)    \n",
    "    \n",
    "\n"
   ]
  },
  {
   "cell_type": "code",
   "execution_count": 2,
   "metadata": {},
   "outputs": [
    {
     "name": "stdout",
     "output_type": "stream",
     "text": [
      "Number of files : 3\n",
      "total_number_of_files: 3 and shape of each file (50, 128, 128, 1)\n"
     ]
    }
   ],
   "source": [
    "\n",
    "\n",
    "\n",
    "\n",
    "\n",
    "\n",
    "\n",
    "#  This one is for 128 dinesional vector generated out of 1 channel wo_norm logan\n",
    "counter = 61250\n",
    "\n",
    "\n",
    "# path = \"/global/cscratch1/sd/rgupta2/backup/climate_stylegan/stored_outputs/wo_norm_128_crop_one_channel/result/single_generator_results/generator_{}_images_50_file_*.npy\".format(counter)\n",
    "path = \"/global/cscratch1/sd/rgupta2/backup/climate_stylegan/stored_outputs/fixed_offset_feature_matching_step_annealing_custom_cropping_logan_annealed_omega_128/result/single_generator_results/generator_{}_images_50_file_*.npy\".format(counter)\n",
    "\n",
    "\n",
    "\n",
    "\n",
    "\n",
    "files = sorted(glob(path))\n",
    "\n",
    "print(\"Number of files : {}\".format(len(files)))\n",
    "\n",
    "list_of_generated_images = []\n",
    "\n",
    "for file in files:\n",
    "    my_dict_back = np.load(file, allow_pickle=True)\t\n",
    "    generated_images = my_dict_back.item()[\"generated_images\"]\n",
    "    list_of_generated_images.append(generated_images)\n",
    "    \n",
    "\n",
    "    \n",
    "print(\"total_number_of_files: {} and shape of each file {}\".format(len(list_of_generated_images) ,  list_of_generated_images[0].shape))\n",
    "    \n",
    "    \n",
    "save_path = \"/global/cscratch1/sd/rgupta2/backup/climate_stylegan/test_samples/\"\n",
    "\n",
    "if not os.path.exists(save_path):\n",
    "    os.makedirs(save_path)\n",
    "    \n",
    "    \n",
    "final_array = np.concatenate(list_of_generated_images, axis=0 )\n",
    "np.save(save_path + \"fixed_offset_192_feature_matching_step_annealing_custom_cropping_logan_annealed_omega_128_{}.npy\".format(counter), final_array)    \n",
    "    \n",
    "\n"
   ]
  },
  {
   "cell_type": "code",
   "execution_count": 3,
   "metadata": {},
   "outputs": [
    {
     "name": "stdout",
     "output_type": "stream",
     "text": [
      "Number of files : 5\n",
      "total_number_of_files: 5 and shape of each file (50, 128, 128, 1)\n"
     ]
    }
   ],
   "source": [
    "#  This one is for 128 dinesional vector generated out of 1 channel wo_norm logan\n",
    "counter = 28750\n",
    "\n",
    "\n",
    "# path = \"/global/cscratch1/sd/rgupta2/backup/climate_stylegan/stored_outputs/wo_norm_128_crop_one_channel/result/single_generator_results/generator_{}_images_50_file_*.npy\".format(counter)\n",
    "path = \"/global/cscratch1/sd/rgupta2/backup/climate_stylegan/stored_outputs/fixed_offset_normalized_feature_matching_step_annealing_custom_cropping_logan_annealed_omega_128/result/single_generator_results/generator_{}_images_50_file_*.npy\".format(counter)\n",
    "\n",
    "\n",
    "\n",
    "\n",
    "\n",
    "files = sorted(glob(path))\n",
    "\n",
    "print(\"Number of files : {}\".format(len(files)))\n",
    "\n",
    "list_of_generated_images = []\n",
    "\n",
    "for file in files:\n",
    "    my_dict_back = np.load(file, allow_pickle=True)\t\n",
    "    generated_images = my_dict_back.item()[\"generated_images\"]\n",
    "    list_of_generated_images.append(generated_images)\n",
    "    \n",
    "\n",
    "    \n",
    "print(\"total_number_of_files: {} and shape of each file {}\".format(len(list_of_generated_images) ,  list_of_generated_images[0].shape))\n",
    "    \n",
    "    \n",
    "save_path = \"/global/cscratch1/sd/rgupta2/backup/climate_stylegan/test_samples/\"\n",
    "\n",
    "if not os.path.exists(save_path):\n",
    "    os.makedirs(save_path)\n",
    "    \n",
    "    \n",
    "final_array = np.concatenate(list_of_generated_images, axis=0 )\n",
    "np.save(save_path + \"fixed_offset_192_normalized_feature_matching_step_annealing_custom_cropping_logan_annealed_omega_128_{}.npy\".format(counter), final_array)    \n",
    "    \n",
    "\n"
   ]
  },
  {
   "cell_type": "code",
   "execution_count": 3,
   "metadata": {},
   "outputs": [
    {
     "name": "stdout",
     "output_type": "stream",
     "text": [
      "Number of files : 6\n",
      "total_number_of_files: 6 and shape of each file (400, 128, 128, 1)\n"
     ]
    }
   ],
   "source": [
    "\n",
    "#  This one is for 128 dinesional vector generated out of 1 channel wo_norm logan\n",
    "counter = 85625\n",
    "\n",
    "\n",
    "# path = \"/global/cscratch1/sd/rgupta2/backup/climate_stylegan/stored_outputs/wo_norm_128_crop_one_channel/result/single_generator_results/generator_{}_images_50_file_*.npy\".format(counter)\n",
    "path = \"/global/cscratch1/sd/rgupta2/backup/climate_stylegan/stored_outputs/original_batch_size_normalized_fixed_offset_feature_matching_step_annealing_custom_cropping_logan_annealed_omega_128/result/single_generator_results/generator_{}_images_50_file_*.npy\".format(counter)\n",
    "\n",
    "\n",
    "\n",
    "\n",
    "\n",
    "files = sorted(glob(path))\n",
    "\n",
    "print(\"Number of files : {}\".format(len(files)))\n",
    "\n",
    "list_of_generated_images = []\n",
    "\n",
    "for file in files:\n",
    "    my_dict_back = np.load(file, allow_pickle=True)\t\n",
    "    generated_images = my_dict_back.item()[\"generated_images\"]\n",
    "    list_of_generated_images.append(generated_images)\n",
    "    \n",
    "\n",
    "    \n",
    "print(\"total_number_of_files: {} and shape of each file {}\".format(len(list_of_generated_images) ,  list_of_generated_images[0].shape))\n",
    "    \n",
    "    \n",
    "save_path = \"/global/cscratch1/sd/rgupta2/backup/climate_stylegan/test_samples/\"\n",
    "\n",
    "if not os.path.exists(save_path):\n",
    "    os.makedirs(save_path)\n",
    "    \n",
    "    \n",
    "final_array = np.concatenate(list_of_generated_images, axis=0 )\n",
    "np.save(save_path + \"original_batch_size_normalized_fixed_offset_192_feature_matching_step_annealing_custom_cropping_logan_annealed_omega_128_{}.npy\".format(counter), final_array)    \n",
    "    \n",
    "\n",
    "\n"
   ]
  },
  {
   "cell_type": "code",
   "execution_count": 13,
   "metadata": {},
   "outputs": [
    {
     "name": "stdout",
     "output_type": "stream",
     "text": [
      "(2400, 128, 128, 1)\n",
      "(2920, 7, 512, 512)\n",
      "(2920, 1, 128, 128)\n",
      "<class 'numpy.ndarray'>\n",
      "[[[[ 3.70425545e-02  3.58628035e-02  3.17085348e-02 ...  8.77368301e-02\n",
      "     1.04395419e-01  9.99030545e-02]\n",
      "   [ 1.86661594e-02  1.24221090e-02  4.61520674e-03 ...  1.09446585e-01\n",
      "     1.11444175e-01  9.15488601e-02]\n",
      "   [ 4.42172308e-03 -9.00040008e-03 -2.38742977e-02 ...  1.15768358e-01\n",
      "     1.02955811e-01  7.63009191e-02]\n",
      "   ...\n",
      "   [ 1.23844266e-01  1.43478900e-01  1.63026482e-01 ...  6.27878234e-02\n",
      "     3.83702107e-02  1.71369258e-02]\n",
      "   [ 1.24639012e-01  1.36514723e-01  1.53616562e-01 ...  6.08771741e-02\n",
      "     5.28658330e-02  3.30712907e-02]\n",
      "   [ 1.08790301e-01  1.16498448e-01  1.29965544e-01 ...  4.39715050e-02\n",
      "     4.79797423e-02  4.50508744e-02]]]\n",
      "\n",
      "\n",
      " [[[ 2.53964146e-03 -3.13841850e-02 -6.85017258e-02 ...  3.86932902e-02\n",
      "     3.61070856e-02  3.40738520e-02]\n",
      "   [-7.52600702e-03 -4.72215451e-02 -7.78355077e-02 ...  4.11847867e-02\n",
      "     3.55392694e-02  2.32096203e-02]\n",
      "   [ 1.24167204e-02 -3.12938578e-02 -5.77699095e-02 ...  3.44101265e-02\n",
      "     2.00549327e-02  8.68647918e-03]\n",
      "   ...\n",
      "   [ 7.29475990e-02  5.29571287e-02  4.06947099e-02 ... -2.72467658e-02\n",
      "    -7.59945512e-02 -8.93495232e-02]\n",
      "   [ 4.88824286e-02  3.17155495e-02  2.63808798e-02 ...  2.78757215e-02\n",
      "    -2.16743108e-02 -6.07249923e-02]\n",
      "   [ 2.34504286e-02  1.48160793e-02  1.29214516e-02 ...  5.84597960e-02\n",
      "     2.55970787e-02 -1.83222335e-04]]]\n",
      "\n",
      "\n",
      " [[[ 1.06423311e-01  9.18410271e-02  7.90396556e-02 ...  7.24707404e-03\n",
      "    -4.45795581e-02 -3.32051925e-02]\n",
      "   [ 1.08773075e-01  1.04690649e-01  8.45713764e-02 ...  2.10934579e-02\n",
      "    -4.47913259e-02 -4.66970913e-02]\n",
      "   [ 1.16268806e-01  1.03250869e-01  7.39966929e-02 ...  3.28137875e-02\n",
      "    -4.16164063e-02 -5.48343025e-02]\n",
      "   ...\n",
      "   [ 1.39776161e-02  1.37974229e-02  2.15636399e-02 ... -1.44779226e-02\n",
      "    -2.01119464e-02 -1.61125045e-02]\n",
      "   [ 2.19555781e-03  2.18886021e-03  5.07597486e-03 ... -3.34815383e-02\n",
      "    -3.10172886e-02 -3.30283456e-02]\n",
      "   [ 7.88948406e-03 -5.13409846e-04 -3.96428490e-03 ... -4.02251147e-02\n",
      "    -3.73165011e-02 -3.45771275e-02]]]\n",
      "\n",
      "\n",
      " ...\n",
      "\n",
      "\n",
      " [[[ 3.38866673e-02 -2.21025497e-02 -6.84625208e-02 ... -7.67118782e-02\n",
      "    -1.24198303e-01 -1.53873071e-01]\n",
      "   [-2.45256862e-03 -4.40912135e-02 -7.61000440e-02 ... -1.05844893e-01\n",
      "    -1.44078910e-01 -1.62894949e-01]\n",
      "   [-5.31620048e-02 -9.38264877e-02 -1.10524043e-01 ... -1.20749958e-01\n",
      "    -1.25761673e-01 -1.27486393e-01]\n",
      "   ...\n",
      "   [ 1.54443383e-01  1.67744219e-01  1.79760039e-01 ...  3.77845392e-02\n",
      "     3.52904014e-02  3.23504992e-02]\n",
      "   [ 1.62540168e-01  1.68229699e-01  1.83776408e-01 ...  2.48181447e-02\n",
      "     2.04217508e-02  2.08034124e-02]\n",
      "   [ 1.53008044e-01  1.65223375e-01  1.70593530e-01 ...  2.00047884e-02\n",
      "     1.55387865e-02  1.19998790e-02]]]\n",
      "\n",
      "\n",
      " [[[-7.96065703e-02 -1.03459224e-01 -1.71643779e-01 ... -1.59982175e-01\n",
      "    -1.59191370e-01 -1.20728105e-01]\n",
      "   [-1.27489030e-01 -1.95591763e-01 -2.15806276e-01 ... -1.55455083e-01\n",
      "    -1.45973757e-01 -9.61615369e-02]\n",
      "   [-1.86441123e-01 -2.35853702e-01 -2.03735098e-01 ... -1.39252827e-01\n",
      "    -1.25260934e-01 -7.35122263e-02]\n",
      "   ...\n",
      "   [-2.10903771e-03 -2.24317871e-02 -3.06820814e-02 ...  6.42514154e-02\n",
      "     6.69754148e-02  7.15778321e-02]\n",
      "   [ 1.41605595e-02 -1.05166603e-02 -2.58729607e-02 ...  7.04075992e-02\n",
      "     7.24429414e-02  7.25117698e-02]\n",
      "   [ 4.59980518e-02  1.64407715e-02 -5.55904955e-03 ...  7.22697824e-02\n",
      "     7.16945082e-02  6.98612705e-02]]]\n",
      "\n",
      "\n",
      " [[[-1.52382791e-01 -1.76681519e-01 -1.77251339e-01 ...  4.67397831e-02\n",
      "     5.41706607e-02  4.81972694e-02]\n",
      "   [-1.85082048e-01 -1.81265533e-01 -1.42243803e-01 ...  1.56503133e-02\n",
      "     3.56204621e-02  5.10534868e-02]\n",
      "   [-1.57591134e-01 -1.04368530e-01 -6.59903362e-02 ... -6.97194338e-02\n",
      "     2.15041805e-02  3.86219658e-02]\n",
      "   ...\n",
      "   [-8.93504620e-02 -9.97169241e-02 -1.02580518e-01 ... -1.57081131e-02\n",
      "    -2.47855876e-02 -3.57984081e-02]\n",
      "   [-8.04259926e-02 -9.49792638e-02 -1.00878373e-01 ...  4.09030542e-03\n",
      "    -1.07734362e-02 -2.40500104e-02]\n",
      "   [-7.56255165e-02 -8.59930590e-02 -9.88286287e-02 ...  2.83905789e-02\n",
      "     1.04598859e-02 -5.07864496e-03]]]]\n"
     ]
    }
   ],
   "source": [
    "\n",
    "from random import seed\n",
    "from random import randint\n",
    "\n",
    "climate_counter = 85625\n",
    "\n",
    "load_path = \"/global/cscratch1/sd/rgupta2/backup/climate_stylegan/test_samples/\"\n",
    "\n",
    "omega_generated_data = np.load (load_path +   \"original_batch_size_normalized_fixed_offset_192_feature_matching_step_annealing_custom_cropping_logan_annealed_omega_128_{}.npy\".format(climate_counter))    \n",
    "    \n",
    "np.random.shuffle(omega_generated_data)\n",
    "print(omega_generated_data.shape)\n",
    "\n",
    "\n",
    "\n",
    "normalized_omega_data = np.load ( \"/project/projectdirs/dasrepo/mustafa/data/climate/sims/normalized/normalized_seven_channels_1998.npy\")\n",
    "np.random.shuffle(normalized_omega_data)\n",
    "print(normalized_omega_data.shape)\n",
    "\n",
    "# unnormalized_omega_data = np.load ( \"/project/projectdirs/dasrepo/mustafa/data/climate/sims/unnormalized/seven_channels_1998.npy\")\n",
    "# np.random.shuffle(unnormalized_omega_data)\n",
    "# print(unnormalized_omega_data.shape)\n",
    "\n",
    "\n",
    "\n",
    "# climate_img_size = 512\n",
    "# crop_size = 128\n",
    "# cropped_unnormalized_omega_data = []\n",
    "# # print(\"\\n  x1 {}  x2  {}  y1  {}  y2 {}\\n\\n\".format(offset_width, offset_width + crop_size, ( climate_img_size - crop_size)/2 , (climate_img_size - crop_size)/2 + crop_size))\n",
    "# for i in range (unnormalized_omega_data.shape[0]):       \n",
    "    \n",
    "#     offset_width = randint(0, climate_img_size - crop_size-1)\n",
    "# #     offset_width = 192\n",
    "#     cropped_unnormalized_omega_data.append(unnormalized_omega_data[:, -1:, offset_width : offset_width + crop_size , (climate_img_size - crop_size)//2 : (climate_img_size - crop_size)//2 + crop_size])\n",
    "# print(cropped_unnormalized_omega_data[0].shape)\n",
    "\n",
    "# cropped_unnormalized_omega_data  = cropped_unnormalized_omega_data[0]\n",
    "# print(type(cropped_unnormalized_omega_data))\n",
    "# cropped_unnormalized_omega_data[-250:].flatten() \n",
    "\n",
    "\n",
    "\n",
    "climate_img_size = 512\n",
    "crop_size = 128\n",
    "cropped_normalized_omega_data = []\n",
    "# print(\"\\n  x1 {}  x2  {}  y1  {}  y2 {}\\n\\n\".format(offset_width, offset_width + crop_size, ( climate_img_size - crop_size)/2 , (climate_img_size - crop_size)/2 + crop_size))\n",
    "for i in range (normalized_omega_data.shape[0]):       \n",
    "    \n",
    "#     offset_width = randint(0, climate_img_size - crop_size-1)\n",
    "    offset_width = 192\n",
    "    cropped_normalized_omega_data.append(normalized_omega_data[:, -1:, offset_width : offset_width + crop_size , (climate_img_size - crop_size)//2 : (climate_img_size - crop_size)//2 + crop_size])\n",
    "print(cropped_normalized_omega_data[0].shape)\n",
    "\n",
    "cropped_normalized_omega_data  = cropped_normalized_omega_data[0]\n",
    "print(type(cropped_normalized_omega_data))\n",
    "print(cropped_normalized_omega_data)\n",
    "\n",
    "\n",
    "\n",
    "\n",
    "# plt.savefig(\"Histogram_results_feature_matching_step_annealing_custom_cropping_logan_annealed_omega_128.png\", dpi=200)\n"
   ]
  },
  {
   "cell_type": "code",
   "execution_count": 14,
   "metadata": {},
   "outputs": [
    {
     "data": {
      "text/plain": [
       "<matplotlib.legend.Legend at 0x2aab5989d4a8>"
      ]
     },
     "execution_count": 14,
     "metadata": {},
     "output_type": "execute_result"
    },
    {
     "data": {
      "image/png": "[encoded data removed]",
      "text/plain": [
       "<Figure size 576x720 with 1 Axes>"
      ]
     },
     "metadata": {
      "needs_background": "light"
     },
     "output_type": "display_data"
    }
   ],
   "source": [
    "\n",
    "plt.hist([omega_generated_data[-250:].flatten(), cropped_normalized_omega_data[-250:].flatten(),  ], color=['g', 'r'], bins=100, linewidth=2 ,histtype='step', label=[\"generated_250\", \"real_normalized_250\"])\n",
    "plt.yscale(\"log\")\n",
    "plt.legend(loc='best')"
   ]
  },
  {
   "cell_type": "code",
   "execution_count": 6,
   "metadata": {},
   "outputs": [
    {
     "name": "stdout",
     "output_type": "stream",
     "text": [
      "Number of files : 3\n",
      "total_number_of_files: 3 and shape of each file (50, 128, 128, 1)\n"
     ]
    }
   ],
   "source": [
    "\n",
    "#  This one is for 128 dinesional vector generated out of 1 channel wo_norm logan\n",
    "counter = 71250\n",
    "\n",
    "\n",
    "# path = \"/global/cscratch1/sd/rgupta2/backup/climate_stylegan/stored_outputs/wo_norm_128_crop_one_channel/result/single_generator_results/generator_{}_images_50_file_*.npy\".format(counter)\n",
    "path = \"/global/cscratch1/sd/rgupta2/backup/climate_stylegan/stored_outputs/original_batch_size_normalized_fixed_offset_feature_matching_step_annealing_custom_cropping_logan_annealed_omega_128/result/single_generator_results/generator_{}_images_50_file_*.npy\".format(counter)\n",
    "\n",
    "\n",
    "\n",
    "\n",
    "\n",
    "files = sorted(glob(path))\n",
    "\n",
    "print(\"Number of files : {}\".format(len(files)))\n",
    "\n",
    "list_of_generated_images = []\n",
    "\n",
    "for file in files:\n",
    "    my_dict_back = np.load(file, allow_pickle=True)\t\n",
    "    generated_images = my_dict_back.item()[\"generated_images\"]\n",
    "    list_of_generated_images.append(generated_images)\n",
    "    \n",
    "\n",
    "    \n",
    "print(\"total_number_of_files: {} and shape of each file {}\".format(len(list_of_generated_images) ,  list_of_generated_images[0].shape))\n",
    "    \n",
    "    \n",
    "save_path = \"/global/cscratch1/sd/rgupta2/backup/climate_stylegan/test_samples/\"\n",
    "\n",
    "if not os.path.exists(save_path):\n",
    "    os.makedirs(save_path)\n",
    "    \n",
    "    \n",
    "final_array = np.concatenate(list_of_generated_images, axis=0 )\n",
    "np.save(save_path + \"original_batch_size_normalized_fixed_offset_192_feature_matching_step_annealing_custom_cropping_logan_annealed_omega_128_{}.npy\".format(counter), final_array)    \n",
    "    \n",
    "\n",
    "\n"
   ]
  },
  {
   "cell_type": "code",
   "execution_count": 10,
   "metadata": {},
   "outputs": [
    {
     "name": "stdout",
     "output_type": "stream",
     "text": [
      "(150, 128, 128, 1)\n",
      "(2920, 7, 512, 512)\n",
      "(2920, 1, 128, 128)\n",
      "<class 'numpy.ndarray'>\n"
     ]
    }
   ],
   "source": [
    "\n",
    "from random import seed\n",
    "from random import randint\n",
    "\n",
    "climate_counter = 71250\n",
    "\n",
    "load_path = \"/global/cscratch1/sd/rgupta2/backup/climate_stylegan/test_samples/\"\n",
    "\n",
    "omega_generated_data = np.load (load_path +   \"original_batch_size_normalized_fixed_offset_192_feature_matching_step_annealing_custom_cropping_logan_annealed_omega_128_{}.npy\".format(climate_counter))    \n",
    "    \n",
    "np.random.shuffle(omega_generated_data)\n",
    "print(omega_generated_data.shape)\n",
    "\n",
    "\n",
    "\n",
    "normalized_omega_data = np.load ( \"/project/projectdirs/dasrepo/mustafa/data/climate/sims/normalized/normalized_seven_channels_1997.npy\")\n",
    "np.random.shuffle(normalized_omega_data)\n",
    "print(normalized_omega_data.shape)\n",
    "\n",
    "# unnormalized_omega_data = np.load ( \"/project/projectdirs/dasrepo/mustafa/data/climate/sims/unnormalized/seven_channels_1998.npy\")\n",
    "# np.random.shuffle(unnormalized_omega_data)\n",
    "# print(unnormalized_omega_data.shape)\n",
    "\n",
    "\n",
    "\n",
    "# climate_img_size = 512\n",
    "# crop_size = 128\n",
    "# cropped_unnormalized_omega_data = []\n",
    "# # print(\"\\n  x1 {}  x2  {}  y1  {}  y2 {}\\n\\n\".format(offset_width, offset_width + crop_size, ( climate_img_size - crop_size)/2 , (climate_img_size - crop_size)/2 + crop_size))\n",
    "# for i in range (unnormalized_omega_data.shape[0]):       \n",
    "    \n",
    "#     offset_width = randint(0, climate_img_size - crop_size-1)\n",
    "# #     offset_width = 192\n",
    "#     cropped_unnormalized_omega_data.append(unnormalized_omega_data[:, -1:, offset_width : offset_width + crop_size , (climate_img_size - crop_size)//2 : (climate_img_size - crop_size)//2 + crop_size])\n",
    "# print(cropped_unnormalized_omega_data[0].shape)\n",
    "\n",
    "# cropped_unnormalized_omega_data  = cropped_unnormalized_omega_data[0]\n",
    "# print(type(cropped_unnormalized_omega_data))\n",
    "# cropped_unnormalized_omega_data[-250:].flatten() \n",
    "\n",
    "\n",
    "\n",
    "climate_img_size = 512\n",
    "crop_size = 128\n",
    "cropped_normalized_omega_data = []\n",
    "# print(\"\\n  x1 {}  x2  {}  y1  {}  y2 {}\\n\\n\".format(offset_width, offset_width + crop_size, ( climate_img_size - crop_size)/2 , (climate_img_size - crop_size)/2 + crop_size))\n",
    "for i in range (normalized_omega_data.shape[0]):       \n",
    "    \n",
    "    offset_width = randint(0, climate_img_size - crop_size-1)\n",
    "#     offset_width = 192\n",
    "    cropped_normalized_omega_data.append(normalized_omega_data[:, -1:, offset_width : offset_width + crop_size , (climate_img_size - crop_size)//2 : (climate_img_size - crop_size)//2 + crop_size])\n",
    "print(cropped_normalized_omega_data[0].shape)\n",
    "\n",
    "cropped_normalized_omega_data  = cropped_normalized_omega_data[0]\n",
    "print(type(cropped_normalized_omega_data))\n",
    "\n",
    "\n",
    "\n",
    "\n",
    "\n",
    "# plt.savefig(\"Histogram_results_feature_matching_step_annealing_custom_cropping_logan_annealed_omega_128.png\", dpi=200)\n"
   ]
  },
  {
   "cell_type": "code",
   "execution_count": 11,
   "metadata": {},
   "outputs": [
    {
     "data": {
      "text/plain": [
       "<matplotlib.legend.Legend at 0x2aab5971c080>"
      ]
     },
     "execution_count": 11,
     "metadata": {},
     "output_type": "execute_result"
    },
    {
     "data": {
      "image/png": "[encoded data removed]",
      "text/plain": [
       "<Figure size 576x720 with 1 Axes>"
      ]
     },
     "metadata": {
      "needs_background": "light"
     },
     "output_type": "display_data"
    }
   ],
   "source": [
    "\n",
    "plt.hist([omega_generated_data[-150:].flatten(), cropped_normalized_omega_data[-150:].flatten(),  ], color=['g', 'r'], bins=100, linewidth=2 ,histtype='step', label=[\"generated_250\", \"real_normalized_250\"])\n",
    "plt.yscale(\"log\")\n",
    "plt.legend(loc='best')"
   ]
  },
  {
   "cell_type": "code",
   "execution_count": 4,
   "metadata": {},
   "outputs": [
    {
     "name": "stdout",
     "output_type": "stream",
     "text": [
      "Number of files : 6\n",
      "total_number_of_files: 6 and shape of each file (50, 128, 128, 1)\n"
     ]
    }
   ],
   "source": [
    "\n",
    "\n",
    "#  This one is for 128 dinesional vector generated out of 1 channel wo_norm logan\n",
    "counter = 82500\n",
    "\n",
    "\n",
    "# path = \"/global/cscratch1/sd/rgupta2/backup/climate_stylegan/stored_outputs/wo_norm_128_crop_one_channel/result/single_generator_results/generator_{}_images_50_file_*.npy\".format(counter)\n",
    "path = \"/global/cscratch1/sd/rgupta2/backup/climate_stylegan/stored_outputs/original_batch_size_normalized_random_offset_feature_matching_step_annealing_custom_cropping_logan_annealed_omega_128/result/single_generator_results/generator_{}_images_50_file_*.npy\".format(counter)\n",
    "\n",
    "\n",
    "\n",
    "\n",
    "\n",
    "files = sorted(glob(path))\n",
    "\n",
    "print(\"Number of files : {}\".format(len(files)))\n",
    "\n",
    "list_of_generated_images = []\n",
    "\n",
    "for file in files:\n",
    "    my_dict_back = np.load(file, allow_pickle=True)\t\n",
    "    generated_images = my_dict_back.item()[\"generated_images\"]\n",
    "    list_of_generated_images.append(generated_images)\n",
    "    \n",
    "\n",
    "    \n",
    "print(\"total_number_of_files: {} and shape of each file {}\".format(len(list_of_generated_images) ,  list_of_generated_images[0].shape))\n",
    "    \n",
    "    \n",
    "save_path = \"/global/cscratch1/sd/rgupta2/backup/climate_stylegan/test_samples/\"\n",
    "\n",
    "if not os.path.exists(save_path):\n",
    "    os.makedirs(save_path)\n",
    "    \n",
    "    \n",
    "final_array = np.concatenate(list_of_generated_images, axis=0 )\n",
    "np.save(save_path + \"original_batch_size_normalized_random_offset_feature_matching_step_annealing_custom_cropping_logan_annealed_omega_128_{}.npy\".format(counter), final_array)    \n",
    "    \n",
    "\n",
    "\n",
    "\n",
    "\n",
    "\n",
    "\n",
    "\n",
    "\t"
   ]
  },
  {
   "cell_type": "code",
   "execution_count": 5,
   "metadata": {},
   "outputs": [
    {
     "name": "stdout",
     "output_type": "stream",
     "text": [
      "(300, 128, 128, 1)\n",
      "(2920, 7, 512, 512)\n",
      "(2920, 1, 128, 128)\n",
      "<class 'numpy.ndarray'>\n"
     ]
    }
   ],
   "source": [
    "\n",
    "from random import seed\n",
    "from random import randint\n",
    "\n",
    "climate_counter = 82500\n",
    "\n",
    "load_path = \"/global/cscratch1/sd/rgupta2/backup/climate_stylegan/test_samples/\"\n",
    "\n",
    "omega_generated_data = np.load (load_path +   \"original_batch_size_normalized_random_offset_feature_matching_step_annealing_custom_cropping_logan_annealed_omega_128_{}.npy\".format(climate_counter))    \n",
    "    \n",
    "np.random.shuffle(omega_generated_data)\n",
    "print(omega_generated_data.shape)\n",
    "\n",
    "\n",
    "\n",
    "normalized_omega_data = np.load ( \"/project/projectdirs/dasrepo/mustafa/data/climate/sims/normalized/normalized_seven_channels_1997.npy\")\n",
    "np.random.shuffle(normalized_omega_data)\n",
    "print(normalized_omega_data.shape)\n",
    "\n",
    "# unnormalized_omega_data = np.load ( \"/project/projectdirs/dasrepo/mustafa/data/climate/sims/unnormalized/seven_channels_1998.npy\")\n",
    "# np.random.shuffle(unnormalized_omega_data)\n",
    "# print(unnormalized_omega_data.shape)\n",
    "\n",
    "\n",
    "\n",
    "# climate_img_size = 512\n",
    "# crop_size = 128\n",
    "# cropped_unnormalized_omega_data = []\n",
    "# # print(\"\\n  x1 {}  x2  {}  y1  {}  y2 {}\\n\\n\".format(offset_width, offset_width + crop_size, ( climate_img_size - crop_size)/2 , (climate_img_size - crop_size)/2 + crop_size))\n",
    "# for i in range (unnormalized_omega_data.shape[0]):       \n",
    "    \n",
    "#     offset_width = randint(0, climate_img_size - crop_size-1)\n",
    "# #     offset_width = 192\n",
    "#     cropped_unnormalized_omega_data.append(unnormalized_omega_data[:, -1:, offset_width : offset_width + crop_size , (climate_img_size - crop_size)//2 : (climate_img_size - crop_size)//2 + crop_size])\n",
    "# print(cropped_unnormalized_omega_data[0].shape)\n",
    "\n",
    "# cropped_unnormalized_omega_data  = cropped_unnormalized_omega_data[0]\n",
    "# print(type(cropped_unnormalized_omega_data))\n",
    "# cropped_unnormalized_omega_data[-250:].flatten() \n",
    "\n",
    "\n",
    "\n",
    "climate_img_size = 512\n",
    "crop_size = 128\n",
    "cropped_normalized_omega_data = []\n",
    "# print(\"\\n  x1 {}  x2  {}  y1  {}  y2 {}\\n\\n\".format(offset_width, offset_width + crop_size, ( climate_img_size - crop_size)/2 , (climate_img_size - crop_size)/2 + crop_size))\n",
    "for i in range (normalized_omega_data.shape[0]):       \n",
    "    \n",
    "    offset_width = randint(0, climate_img_size - crop_size-1)\n",
    "#     offset_width = 192\n",
    "    cropped_normalized_omega_data.append(normalized_omega_data[:, -1:, offset_width : offset_width + crop_size , (climate_img_size - crop_size)//2 : (climate_img_size - crop_size)//2 + crop_size])\n",
    "print(cropped_normalized_omega_data[0].shape)\n",
    "\n",
    "cropped_normalized_omega_data  = cropped_normalized_omega_data[0]\n",
    "print(type(cropped_normalized_omega_data))\n",
    "\n",
    "\n",
    "\n",
    "\n",
    "\n",
    "# plt.savefig(\"Histogram_results_feature_matching_step_annealing_custom_cropping_logan_annealed_omega_128.png\", dpi=200)\n"
   ]
  },
  {
   "cell_type": "code",
   "execution_count": 6,
   "metadata": {},
   "outputs": [
    {
     "data": {
      "text/plain": [
       "<matplotlib.legend.Legend at 0x2aab5915eef0>"
      ]
     },
     "execution_count": 6,
     "metadata": {},
     "output_type": "execute_result"
    },
    {
     "data": {
      "image/png": "[encoded data removed]",
      "text/plain": [
       "<Figure size 576x720 with 1 Axes>"
      ]
     },
     "metadata": {
      "needs_background": "light"
     },
     "output_type": "display_data"
    }
   ],
   "source": [
    "\n",
    "plt.hist([omega_generated_data[-300:].flatten(), cropped_normalized_omega_data[-300:].flatten(),  ], color=['g', 'r'], bins=100, linewidth=2 ,histtype='step', label=[\"generated_300\", \"real_normalized_300\"])\n",
    "plt.yscale(\"log\")\n",
    "plt.legend(loc='best')"
   ]
  },
  {
   "cell_type": "code",
   "execution_count": 2,
   "metadata": {},
   "outputs": [
    {
     "name": "stdout",
     "output_type": "stream",
     "text": [
      "Number of files : 5\n",
      "total_number_of_files: 5 and shape of each file (50, 128, 128, 1)\n"
     ]
    }
   ],
   "source": [
    "\n",
    "\n",
    "\n",
    "\n",
    "\n",
    "\n",
    "#  This one is for 128 dinesional vector generated out of 1 channel wo_norm logan\n",
    "counter = 97500\n",
    "\n",
    "\n",
    "# path = \"/global/cscratch1/sd/rgupta2/backup/climate_stylegan/stored_outputs/wo_norm_128_crop_one_channel/result/single_generator_results/generator_{}_images_50_file_*.npy\".format(counter)\n",
    "path = \"/global/cscratch1/sd/rgupta2/backup/climate_stylegan/stored_outputs/original_batch_size_normalized_random_offset_feature_matching_step_annealing_custom_cropping_logan_annealed_omega_128/result/single_generator_results/generator_{}_images_50_file_*.npy\".format(counter)\n",
    "\n",
    "\n",
    "\n",
    "\n",
    "\n",
    "files = sorted(glob(path))\n",
    "\n",
    "print(\"Number of files : {}\".format(len(files)))\n",
    "\n",
    "list_of_generated_images = []\n",
    "\n",
    "for file in files:\n",
    "    my_dict_back = np.load(file, allow_pickle=True)\t\n",
    "    generated_images = my_dict_back.item()[\"generated_images\"]\n",
    "    list_of_generated_images.append(generated_images)\n",
    "    \n",
    "\n",
    "    \n",
    "print(\"total_number_of_files: {} and shape of each file {}\".format(len(list_of_generated_images) ,  list_of_generated_images[0].shape))\n",
    "    \n",
    "    \n",
    "save_path = \"/global/cscratch1/sd/rgupta2/backup/climate_stylegan/test_samples/\"\n",
    "\n",
    "if not os.path.exists(save_path):\n",
    "    os.makedirs(save_path)\n",
    "    \n",
    "    \n",
    "final_array = np.concatenate(list_of_generated_images, axis=0 )\n",
    "np.save(save_path + \"original_batch_size_normalized_random_offset_192_feature_matching_step_annealing_custom_cropping_logan_annealed_omega_128_{}.npy\".format(counter), final_array)    \n",
    "    \n",
    "\n",
    "\n"
   ]
  },
  {
   "cell_type": "code",
   "execution_count": 7,
   "metadata": {},
   "outputs": [
    {
     "name": "stdout",
     "output_type": "stream",
     "text": [
      "(250, 128, 128, 1)\n",
      "(2920, 7, 512, 512)\n",
      "(2920, 1, 128, 128)\n",
      "<class 'numpy.ndarray'>\n"
     ]
    }
   ],
   "source": [
    "\n",
    "from random import seed\n",
    "from random import randint\n",
    "\n",
    "climate_counter = 97500\n",
    "\n",
    "load_path = \"/global/cscratch1/sd/rgupta2/backup/climate_stylegan/test_samples/\"\n",
    "\n",
    "omega_generated_data = np.load (load_path +   \"original_batch_size_normalized_random_offset_192_feature_matching_step_annealing_custom_cropping_logan_annealed_omega_128_{}.npy\".format(climate_counter))    \n",
    "    \n",
    "np.random.shuffle(omega_generated_data)\n",
    "print(omega_generated_data.shape)\n",
    "\n",
    "\n",
    "\n",
    "normalized_omega_data = np.load ( \"/project/projectdirs/dasrepo/mustafa/data/climate/sims/normalized/normalized_seven_channels_1998.npy\")\n",
    "np.random.shuffle(normalized_omega_data)\n",
    "print(normalized_omega_data.shape)\n",
    "\n",
    "# unnormalized_omega_data = np.load ( \"/project/projectdirs/dasrepo/mustafa/data/climate/sims/unnormalized/seven_channels_1998.npy\")\n",
    "# np.random.shuffle(unnormalized_omega_data)\n",
    "# print(unnormalized_omega_data.shape)\n",
    "\n",
    "\n",
    "\n",
    "# climate_img_size = 512\n",
    "# crop_size = 128\n",
    "# cropped_unnormalized_omega_data = []\n",
    "# # print(\"\\n  x1 {}  x2  {}  y1  {}  y2 {}\\n\\n\".format(offset_width, offset_width + crop_size, ( climate_img_size - crop_size)/2 , (climate_img_size - crop_size)/2 + crop_size))\n",
    "# for i in range (unnormalized_omega_data.shape[0]):       \n",
    "    \n",
    "#     offset_width = randint(0, climate_img_size - crop_size-1)\n",
    "# #     offset_width = 192\n",
    "#     cropped_unnormalized_omega_data.append(unnormalized_omega_data[:, -1:, offset_width : offset_width + crop_size , (climate_img_size - crop_size)//2 : (climate_img_size - crop_size)//2 + crop_size])\n",
    "# print(cropped_unnormalized_omega_data[0].shape)\n",
    "\n",
    "# cropped_unnormalized_omega_data  = cropped_unnormalized_omega_data[0]\n",
    "# print(type(cropped_unnormalized_omega_data))\n",
    "# cropped_unnormalized_omega_data[-250:].flatten() \n",
    "\n",
    "\n",
    "\n",
    "climate_img_size = 512\n",
    "crop_size = 128\n",
    "cropped_normalized_omega_data = []\n",
    "# print(\"\\n  x1 {}  x2  {}  y1  {}  y2 {}\\n\\n\".format(offset_width, offset_width + crop_size, ( climate_img_size - crop_size)/2 , (climate_img_size - crop_size)/2 + crop_size))\n",
    "for i in range (normalized_omega_data.shape[0]):       \n",
    "    \n",
    "#     offset_width = randint(0, climate_img_size - crop_size-1)\n",
    "    offset_width = 192\n",
    "    cropped_normalized_omega_data.append(normalized_omega_data[:, -1:, offset_width : offset_width + crop_size , (climate_img_size - crop_size)//2 : (climate_img_size - crop_size)//2 + crop_size])\n",
    "print(cropped_normalized_omega_data[0].shape)\n",
    "\n",
    "cropped_normalized_omega_data  = cropped_normalized_omega_data[0]\n",
    "print(type(cropped_normalized_omega_data))\n",
    "# print(cropped_normalized_omega_data)\n"
   ]
  },
  {
   "cell_type": "code",
   "execution_count": 8,
   "metadata": {},
   "outputs": [
    {
     "name": "stdout",
     "output_type": "stream",
     "text": [
      "(2920, 1, 128, 128)\n"
     ]
    }
   ],
   "source": [
    "climate_img_size = 512\n",
    "crop_size = 128\n",
    "random_cropped_normalized_omega_data = []\n",
    "# print(\"\\n  x1 {}  x2  {}  y1  {}  y2 {}\\n\\n\".format(offset_width, offset_width + crop_size, ( climate_img_size - crop_size)/2 , (climate_img_size - crop_size)/2 + crop_size))\n",
    "for i in range (normalized_omega_data.shape[0]):       \n",
    "    \n",
    "    offset_width = randint(0, climate_img_size - crop_size-1)\n",
    "#     offset_width = 192\n",
    "    random_cropped_normalized_omega_data.append(normalized_omega_data[:, -1:, offset_width : offset_width + crop_size , (climate_img_size - crop_size)//2 : (climate_img_size - crop_size)//2 + crop_size])\n",
    "print(random_cropped_normalized_omega_data[0].shape)\n",
    "\n",
    "random_cropped_normalized_omega_data  = cropped_normalized_omega_data[0]\n",
    "# print(type(random_cropped_normalized_omega_data))\n",
    "# print(cropped_normalized_omega_data)\n"
   ]
  },
  {
   "cell_type": "code",
   "execution_count": 9,
   "metadata": {},
   "outputs": [
    {
     "data": {
      "text/plain": [
       "<matplotlib.legend.Legend at 0x2aab5c1d9d68>"
      ]
     },
     "execution_count": 9,
     "metadata": {},
     "output_type": "execute_result"
    },
    {
     "data": {
      "image/png": "[encoded data removed]",
      "text/plain": [
       "<Figure size 576x720 with 1 Axes>"
      ]
     },
     "metadata": {
      "needs_background": "light"
     },
     "output_type": "display_data"
    }
   ],
   "source": [
    "\n",
    "plt.hist([omega_generated_data[-150:].flatten(), random_cropped_normalized_omega_data[-150:].flatten(), cropped_normalized_omega_data[-150:].flatten()  ], color=['g', 'r', 'b'], bins=100, linewidth=2 ,histtype='step', label=[\"generated_150\", \"ranodm_real_normalized_150\", \"fixed_offset_real\"])\n",
    "plt.yscale(\"log\")\n",
    "plt.legend(loc='best')"
   ]
  },
  {
   "cell_type": "code",
   "execution_count": 2,
   "metadata": {},
   "outputs": [
    {
     "name": "stdout",
     "output_type": "stream",
     "text": [
      "(750, 128, 128, 1)\n",
      "(2920, 7, 512, 512)\n",
      "(2920, 1, 128, 128)\n",
      "<type 'numpy.ndarray'>\n"
     ]
    }
   ],
   "source": [
    "\n",
    "\n",
    "\n",
    "\n",
    "from random import seed\n",
    "from random import randint\n",
    "\n",
    "climate_counter = 94375\n",
    "\n",
    "load_path = \"/global/cscratch1/sd/rgupta2/backup/climate_stylegan/test_samples/\"\n",
    "\n",
    "omega_generated_data = np.load (load_path +   \"new_dataset_logan_annealed_omega_128_{}_mmustafa.npy\".format(climate_counter))    \n",
    "    \n",
    "np.random.shuffle(omega_generated_data)\n",
    "print(omega_generated_data.shape)\n",
    "\n",
    "\n",
    "\n",
    "normalized_omega_data = np.load ( \"/project/projectdirs/dasrepo/mustafa/data/climate/sims/normalized/normalized_seven_channels_1998.npy\")\n",
    "np.random.shuffle(normalized_omega_data)\n",
    "print(normalized_omega_data.shape)\n",
    "\n",
    "# unnormalized_omega_data = np.load ( \"/project/projectdirs/dasrepo/mustafa/data/climate/sims/unnormalized/seven_channels_1998.npy\")\n",
    "# np.random.shuffle(unnormalized_omega_data)\n",
    "# print(unnormalized_omega_data.shape)\n",
    "\n",
    "\n",
    "\n",
    "# climate_img_size = 512\n",
    "# crop_size = 128\n",
    "# cropped_unnormalized_omega_data = []\n",
    "# # print(\"\\n  x1 {}  x2  {}  y1  {}  y2 {}\\n\\n\".format(offset_width, offset_width + crop_size, ( climate_img_size - crop_size)/2 , (climate_img_size - crop_size)/2 + crop_size))\n",
    "# for i in range (unnormalized_omega_data.shape[0]):       \n",
    "    \n",
    "#     offset_width = randint(0, climate_img_size - crop_size-1)\n",
    "# #     offset_width = 192\n",
    "#     cropped_unnormalized_omega_data.append(unnormalized_omega_data[:, -1:, offset_width : offset_width + crop_size , (climate_img_size - crop_size)//2 : (climate_img_size - crop_size)//2 + crop_size])\n",
    "# print(cropped_unnormalized_omega_data[0].shape)\n",
    "\n",
    "# cropped_unnormalized_omega_data  = cropped_unnormalized_omega_data[0]\n",
    "# print(type(cropped_unnormalized_omega_data))\n",
    "# cropped_unnormalized_omega_data[-250:].flatten() \n",
    "\n",
    "\n",
    "\n",
    "climate_img_size = 512\n",
    "crop_size = 128\n",
    "cropped_normalized_omega_data = []\n",
    "# print(\"\\n  x1 {}  x2  {}  y1  {}  y2 {}\\n\\n\".format(offset_width, offset_width + crop_size, ( climate_img_size - crop_size)/2 , (climate_img_size - crop_size)/2 + crop_size))\n",
    "for i in range (normalized_omega_data.shape[0]):       \n",
    "    \n",
    "#     offset_width = randint(0, climate_img_size - crop_size-1)\n",
    "    offset_width = 192\n",
    "    cropped_normalized_omega_data.append(normalized_omega_data[:, -1:, offset_width : offset_width + crop_size , (climate_img_size - crop_size)//2 : (climate_img_size - crop_size)//2 + crop_size])\n",
    "print(cropped_normalized_omega_data[0].shape)\n",
    "\n",
    "cropped_normalized_omega_data  = cropped_normalized_omega_data[0]\n",
    "print(type(cropped_normalized_omega_data))\n",
    "# print(cropped_normalized_omega_data)\n"
   ]
  },
  {
   "cell_type": "code",
   "execution_count": 6,
   "metadata": {},
   "outputs": [
    {
     "name": "stdout",
     "output_type": "stream",
     "text": [
      "Number of files : 15\n",
      "total_number_of_files: 15 and shape of each file (50, 128, 128, 1)\n"
     ]
    }
   ],
   "source": [
    "\n",
    "\n",
    "\n",
    "\n",
    "\n",
    "\n",
    "#  This one is for 128 dinesional vector generated out of 1 channel wo_norm logan\n",
    "counter = 94375\n",
    "\n",
    "\n",
    "# path = \"/global/cscratch1/sd/rgupta2/backup/climate_stylegan/stored_outputs/wo_norm_128_crop_one_channel/result/single_generator_results/generator_{}_images_50_file_*.npy\".format(counter)\n",
    "path = \"/global/cscratch1/sd/rgupta2/backup/climate_stylegan/stored_outputs/new_dataset_logan_annealed_omega_128/result/single_generator_results/generator_{}_images_50_file_*.npy\".format(counter)\n",
    "\n",
    "\n",
    "\n",
    "\n",
    "\n",
    "files = sorted(glob(path))\n",
    "\n",
    "print(\"Number of files : {}\".format(len(files)))\n",
    "\n",
    "list_of_generated_images = []\n",
    "\n",
    "for file in files:\n",
    "    my_dict_back = np.load(file, allow_pickle=True)\t\n",
    "    generated_images = my_dict_back.item()[\"generated_images\"]\n",
    "    list_of_generated_images.append(generated_images)\n",
    "    \n",
    "\n",
    "    \n",
    "print(\"total_number_of_files: {} and shape of each file {}\".format(len(list_of_generated_images) ,  list_of_generated_images[0].shape))\n",
    "    \n",
    "    \n",
    "save_path = \"/global/cscratch1/sd/rgupta2/backup/climate_stylegan/test_samples/\"\n",
    "\n",
    "if not os.path.exists(save_path):\n",
    "    os.makedirs(save_path)\n",
    "    \n",
    "    \n",
    "final_array = np.concatenate(list_of_generated_images, axis=0 )\n",
    "np.save(save_path + \"new_dataset_logan_annealed_omega_128_{}_mmustafa.npy\".format(counter), final_array)    \n",
    "    \n",
    "\n",
    "\n"
   ]
  },
  {
   "cell_type": "code",
   "execution_count": 4,
   "metadata": {},
   "outputs": [
    {
     "data": {
      "text/plain": [
       "<matplotlib.legend.Legend at 0x2aac00e39e90>"
      ]
     },
     "execution_count": 4,
     "metadata": {},
     "output_type": "execute_result"
    },
    {
     "data": {
      "image/png": "[encoded data removed]",
      "text/plain": [
       "<matplotlib.figure.Figure at 0x2aabfafddd50>"
      ]
     },
     "metadata": {},
     "output_type": "display_data"
    }
   ],
   "source": [
    "\n",
    "plt.hist([omega_generated_data[-750:].flatten(), cropped_normalized_omega_data[-750:].flatten()  ], color=['g', 'r'], bins=100, linewidth=2 ,histtype='step', label=[\"generated_300\",  \"fixed_offset_real_300\"])\n",
    "plt.yscale(\"log\")\n",
    "plt.legend(loc='best')"
   ]
  },
  {
   "cell_type": "code",
   "execution_count": 3,
   "metadata": {},
   "outputs": [
    {
     "name": "stderr",
     "output_type": "stream",
     "text": [
      "750it [00:13, 54.58it/s] \n",
      "750it [00:20, 37.15it/s] \n"
     ]
    },
    {
     "data": {
      "image/png": "[encoded data removed]",
      "text/plain": [
       "<matplotlib.figure.Figure at 0x2aabfafe8410>"
      ]
     },
     "metadata": {},
     "output_type": "display_data"
    }
   ],
   "source": [
    "number_l2 = 750\n",
    "\n",
    "\n",
    "\n",
    "\n",
    "generated_image = omega_generated_data[:number_l2, :, :, 0]\n",
    "real_image = cropped_normalized_omega_data[:number_l2,-1,:,:]\n",
    "\n",
    "\n",
    "\n",
    "\n",
    "def calculateDistance(i1, i2):\n",
    "    return np.mean((i1-i2)**2)\n",
    "\n",
    "l2_generated = []\n",
    "for i, img in tqdm(enumerate(generated_image)):\n",
    "    foo = [calculateDistance(img,j) for j in generated_image[i+1:]]\n",
    "    l2_generated.append(foo)\n",
    "\n",
    "fake_distances = [j for i in l2_generated for j in i]\n",
    "\n",
    "\n",
    "\n",
    "l2_real = []\n",
    "for i, img in tqdm(enumerate(real_image)):\n",
    "    foo = [calculateDistance(img,j) for j in real_image[i+1:]]\n",
    "    l2_real.append(foo)\n",
    "real_distances = [j for i in l2_real for j in i]\n",
    "\n",
    "plt.hist([real_distances,  fake_distances ], color=['r',  'g'], bins=100, linewidth=2 ,histtype='step', label=[\"CAM5.1_{}_samples\".format(number_l2),  \"GAN_{}_samples\".format(number_l2)])\n",
    "plt.title('Cmparison of L2 distance plots between pairwise images from CAM 5.1 vs GAN samples')\n",
    "plt.xlabel(\"L2 distance\")\n",
    "plt.ylabel(\"Number of image pairs\")\n",
    "\n",
    "# plt.yscale(\"log\")\n",
    "# plt.gca().invert_yaxis()\n",
    "plt.legend(loc='best')\n",
    "plt.savefig(\"/global/cscratch1/sd/rgupta2/backup/climate_stylegan/test_samples/l2_distance_plots_omega_128_for_750_samples.png\")"
   ]
  },
  {
   "cell_type": "code",
   "execution_count": 9,
   "metadata": {},
   "outputs": [
    {
     "data": {
      "text/plain": [
       "<matplotlib.figure.Figure at 0x2aabfe9e7e50>"
      ]
     },
     "metadata": {},
     "output_type": "display_data"
    }
   ],
   "source": [
    "plt.savefig(\"/global/cscratch1/sd/rgupta2/backup/climate_stylegan/test_samples/l2_distance_plots_omega_128_for_750_samples.png\")"
   ]
  },
  {
   "cell_type": "code",
   "execution_count": null,
   "metadata": {},
   "outputs": [],
   "source": []
  }
 ],
 "metadata": {
  "kernelspec": {
   "display_name": "PyROOT",
   "language": "python",
   "name": "pyroot"
  },
  "language_info": {
   "codemirror_mode": {
    "name": "ipython",
    "version": 2
   },
   "file_extension": ".py",
   "mimetype": "text/x-python",
   "name": "python",
   "nbconvert_exporter": "python",
   "pygments_lexer": "ipython2",
   "version": "2.7.12"
  }
 },
 "nbformat": 4,
 "nbformat_minor": 4
}
