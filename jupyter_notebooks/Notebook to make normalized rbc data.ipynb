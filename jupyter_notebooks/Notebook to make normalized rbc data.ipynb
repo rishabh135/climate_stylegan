{
 "cells": [
  {
   "cell_type": "code",
   "execution_count": 1,
   "metadata": {},
   "outputs": [
    {
     "name": "stdout",
     "output_type": "stream",
     "text": [
      "Requirement already satisfied: numpy in /global/common/cori_cle7/software/python/3.7-anaconda-2019.07/lib/python3.7/site-packages (1.16.4)\n",
      "Collecting pims\n",
      "  Using cached https://files.pythonhosted.org/packages/00/08/bbf9f5465c92ea6577bc5824fea21d2583e24e94fe10cc853587ffcacda0/PIMS-0.4.1-py3-none-any.whl\n",
      "Requirement already satisfied: six>=1.8 in /global/common/cori_cle7/software/python/3.7-anaconda-2019.07/lib/python3.7/site-packages (from pims) (1.12.0)\n",
      "Requirement already satisfied: numpy>=1.7 in /global/common/cori_cle7/software/python/3.7-anaconda-2019.07/lib/python3.7/site-packages (from pims) (1.16.4)\n",
      "Collecting slicerator>=0.9.7 (from pims)\n",
      "  Using cached https://files.pythonhosted.org/packages/75/ae/fe46f5371105508a209fe6162e7e7b11db531a79d2eabcd24566b8b1f534/slicerator-1.0.0-py3-none-any.whl\n",
      "Installing collected packages: slicerator, pims\n",
      "\u001b[31mERROR: Could not install packages due to an EnvironmentError: [Errno 13] Permission denied: '/usr/common/software/python/3.7-anaconda-2019.07/lib/python3.7/site-packages/slicerator-1.0.0.dist-info'\n",
      "Consider using the `--user` option or check the permissions.\n",
      "\u001b[0m\n",
      "Requirement already satisfied: netCDF4 in /global/u1/r/rgupta2/.local/lib/python3.7/site-packages (1.5.1.2)\n",
      "Requirement already satisfied: cftime in /global/u1/r/rgupta2/.local/lib/python3.7/site-packages (from netCDF4) (1.0.3.4)\n",
      "Requirement already satisfied: numpy>=1.7 in /global/common/cori_cle7/software/python/3.7-anaconda-2019.07/lib/python3.7/site-packages (from netCDF4) (1.16.4)\n",
      "Requirement already satisfied: xarray in /global/u1/r/rgupta2/.local/lib/python3.7/site-packages (0.12.3)\n",
      "Requirement already satisfied: numpy>=1.12 in /global/common/cori_cle7/software/python/3.7-anaconda-2019.07/lib/python3.7/site-packages (from xarray) (1.16.4)\n",
      "Requirement already satisfied: pandas>=0.19.2 in /global/common/cori_cle7/software/python/3.7-anaconda-2019.07/lib/python3.7/site-packages (from xarray) (0.24.2)\n",
      "Requirement already satisfied: python-dateutil>=2.5.0 in /global/common/cori_cle7/software/python/3.7-anaconda-2019.07/lib/python3.7/site-packages (from pandas>=0.19.2->xarray) (2.8.0)\n",
      "Requirement already satisfied: pytz>=2011k in /global/common/cori_cle7/software/python/3.7-anaconda-2019.07/lib/python3.7/site-packages (from pandas>=0.19.2->xarray) (2019.1)\n",
      "Requirement already satisfied: six>=1.5 in /global/common/cori_cle7/software/python/3.7-anaconda-2019.07/lib/python3.7/site-packages (from python-dateutil>=2.5.0->pandas>=0.19.2->xarray) (1.12.0)\n",
      "Requirement already satisfied: tqdm in /global/common/cori_cle7/software/python/3.7-anaconda-2019.07/lib/python3.7/site-packages (4.32.1)\n"
     ]
    }
   ],
   "source": [
    "#!/bin/env python\n",
    "\n",
    "\n",
    "import sys,os,os.path\n",
    "sys.path.append(os.path.expanduser('/global/u1/r/rgupta2/.local/lib/python3.7/site-packages/'))\n",
    "\n",
    "!{sys.executable} -m pip install numpy\n",
    "!{sys.executable} -m pip install pims\n",
    "!{sys.executable} -m pip install --user netCDF4\n",
    "!{sys.executable} -m pip install --user xarray\n",
    "!{sys.executable} -m pip install --user tqdm\n",
    "\n",
    "# export PYTHONPATH=\"${PYTHONPATH}:/usr/local/lib/python2.7/site-packages:/usr/lib/python2.7/site-packages\"\n",
    "import numpy as np\n",
    "import time\n",
    "from netCDF4 import Dataset\n",
    "import matplotlib.pyplot as plt\n",
    "import xarray as xr\n",
    "\n",
    "\n",
    "\n",
    "\n",
    "# from mpl_toolkits.basemap import Basemap\n",
    "\n",
    "\n",
    "file_path = \"/project/projectdirs/dasrepo/mustafa/datasets/Rayleigh_Benard/result_rb_2d__Ra_2.5e8__Pr_0.71__maxMach_0.1__t_D_max_diffusive_scaling__0.4.nc\"\n",
    "\n",
    "\n"
   ]
  },
  {
   "cell_type": "code",
   "execution_count": 2,
   "metadata": {},
   "outputs": [
    {
     "name": "stdout",
     "output_type": "stream",
     "text": [
      "Time takes :  445.48724389076233\n"
     ]
    }
   ],
   "source": [
    "t = time.time()\n",
    "\n",
    "ds = xr.open_dataset(file_path, decode_times=False\t)\n",
    "print(\"Time takes : \", time.time()-t)"
   ]
  },
  {
   "cell_type": "code",
   "execution_count": null,
   "metadata": {},
   "outputs": [],
   "source": [
    "making std dev normalized data   \n",
    "    \n",
    "import os\n",
    "import time\n",
    "\n",
    "dir_path = \"/global/cscratch1/sd/rgupta2/backup/StyleGAN/dataset/rbc_norm_std/\"\n",
    "\n",
    "number_of_timesteps = 500\n",
    "st_time = 10000\n",
    "end_time = 23000\n",
    "image_size = 256\n",
    "\n",
    "tt = time.time()\n",
    "\n",
    "for start_time in range(st_time, end_time, number_of_timesteps):\n",
    "    ux_data = ds['u_x'][start_time : start_time+ number_of_timesteps].values\n",
    "    uy_data = ds['u_y'][start_time : start_time+ number_of_timesteps].values\n",
    "    \n",
    "    ux_std = ux_data.std()\n",
    "    uy_std = uy_data.std()\n",
    "    \n",
    "    u_data_max= max( ux_data.max(), uy_data.max())\n",
    "    \n",
    "    print(\"Ux_data_max = {} and Uy data max = {}\".format(ux_data.max(), uy_data.max()))\n",
    "    print(\"Ux std = {} and Uy std = {}\".format(ux_std, uy_std)\n",
    "    \n",
    "    \n",
    "          \n",
    "    print(\"Time taken to read all\", time.time() - tt)\n",
    "    rb_data = []\n",
    "    u_x = ux_data.reshape(number_of_timesteps, -1, image_size,image_size)/u_data_max\n",
    "    u_y = uy_data.reshape(number_of_timesteps, -1, image_size,image_size)/u_data_max\n",
    "#     tmp_diff = tmp_diff_data.reshape(number_of_timesteps, -1, image_size, image_size)\n",
    "#     press_diff = press_diff_data.reshape(number_of_timesteps, -1, image_size, image_size)\n",
    "    \n",
    "    \n",
    "    channels = np.array([u_x, u_y])\n",
    "    print(channels.shape)\n",
    "    Data = np.float32(channels)\n",
    "    Data = Data.transpose(1,2,0,3,4)\n",
    "    Data = Data.reshape( -1,2,image_size, image_size)\n",
    "    print(Data.shape)\n",
    "    \n",
    "    \n",
    "    save_path = os.path.join(dir_path , \"rbc_{}/\".format(number_of_timesteps))\n",
    "\n",
    "    if not os.path.exists(save_path):\n",
    "        os.makedirs(save_path)\n",
    "\n",
    "    np.save( str(save_path) + \"{}.npy\".format(start_time), Data)\n",
    "    \n",
    "    \n",
    "    print(\"Time taken to complete iteration\", time.time() - tt)\n",
    "    "
   ]
  }
 ],
 "metadata": {
  "kernelspec": {
   "display_name": "Python 3",
   "language": "python",
   "name": "python3"
  },
  "language_info": {
   "codemirror_mode": {
    "name": "ipython",
    "version": 3
   },
   "file_extension": ".py",
   "mimetype": "text/x-python",
   "name": "python",
   "nbconvert_exporter": "python",
   "pygments_lexer": "ipython3",
   "version": "3.7.3"
  }
 },
 "nbformat": 4,
 "nbformat_minor": 4
}
